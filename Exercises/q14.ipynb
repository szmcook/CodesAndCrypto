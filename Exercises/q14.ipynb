{
 "cells": [
  {
   "cell_type": "markdown",
   "metadata": {},
   "source": [
    "# Signature Schemes"
   ]
  },
  {
   "cell_type": "markdown",
   "metadata": {},
   "source": [
    "## 14.1"
   ]
  },
  {
   "cell_type": "code",
   "execution_count": null,
   "metadata": {},
   "outputs": [],
   "source": [
    "n, e = 65, 19\n",
    "\n",
    "M, S = 'Yes', 'hoS'\n",
    "M, S = [28, 34, 48], [37, 44, 22]\n",
    "\n",
    "S_b = [9]*3\n",
    "S_b[0] = S[0]**e % n\n",
    "S_b[1] = S[1]**e % n\n",
    "S_b[2] = S[2]**e % n\n",
    "\n",
    "print(S_b)\n",
    "assert S_b == M"
   ]
  },
  {
   "cell_type": "markdown",
   "metadata": {},
   "source": [
    "## 14.2"
   ]
  },
  {
   "cell_type": "code",
   "execution_count": null,
   "metadata": {},
   "outputs": [],
   "source": [
    "import random\n",
    "\n",
    "R = [random.randint(1,64), random.randint(1,64), random.randint(1,64)]\n",
    "R = [12, 22, 47]\n",
    "print(f\"R = {R}\")\n",
    "M = [r**e%n for r in R]\n",
    "print(f\"M = {M}\")"
   ]
  },
  {
   "cell_type": "markdown",
   "metadata": {},
   "source": [
    "## 14.3"
   ]
  },
  {
   "cell_type": "code",
   "execution_count": 4,
   "metadata": {},
   "outputs": [],
   "source": [
    "import numpy as np"
   ]
  },
  {
   "cell_type": "code",
   "execution_count": 1,
   "metadata": {},
   "outputs": [
    {
     "name": "stdout",
     "output_type": "stream",
     "text": [
      "S1 = [28, 4, 13]\n",
      "S2 = [41]\n"
     ]
    }
   ],
   "source": [
    "n = 65; e = 19\n",
    "\n",
    "def sign(M):\n",
    "    d = 43\n",
    "    return np.array([m**d%n for m in M])\n",
    "\n",
    "M1 = [37, 4, 52]\n",
    "S1 = sign(M1)\n",
    "print(f\"S1 = {S1}\")\n",
    "\n",
    "R = [11]\n",
    "S2 = sign(R)\n",
    "print(f\"S2 = {S2}\")"
   ]
  },
  {
   "cell_type": "markdown",
   "metadata": {},
   "source": [
    "## 14.4"
   ]
  },
  {
   "cell_type": "code",
   "execution_count": 2,
   "metadata": {},
   "outputs": [],
   "source": [
    "from q9 import inverseModp"
   ]
  },
  {
   "cell_type": "code",
   "execution_count": 12,
   "metadata": {},
   "outputs": [
    {
     "name": "stdout",
     "output_type": "stream",
     "text": [
      "[0, 28, 0]\n"
     ]
    }
   ],
   "source": [
    "M = ['N', 'o', 'w']\n",
    "M = np.array([17, 44, 52])\n",
    "\n",
    "R = 10\n",
    "R_1 = inverseModp(R, n)\n",
    "\n",
    "M1 = M*R%n\n",
    "M1d = sign(M1)\n",
    "\n",
    "M2 = [R_1 % n]\n",
    "M2d = sign(M2)\n",
    "\n",
    "S1S2 = M1d\n",
    "\n",
    "print(S1S2)"
   ]
  }
 ],
 "metadata": {
  "interpreter": {
   "hash": "545c602f84e0928fb8e2580388d7be25fe4a6ef0ad31900aa92299d8f86a5380"
  },
  "kernelspec": {
   "display_name": "Python 3.8.10 64-bit ('.cc': venv)",
   "language": "python",
   "name": "python3"
  },
  "language_info": {
   "codemirror_mode": {
    "name": "ipython",
    "version": 3
   },
   "file_extension": ".py",
   "mimetype": "text/x-python",
   "name": "python",
   "nbconvert_exporter": "python",
   "pygments_lexer": "ipython3",
   "version": "3.8.10"
  },
  "orig_nbformat": 4
 },
 "nbformat": 4,
 "nbformat_minor": 2
}
