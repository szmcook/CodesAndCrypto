{
  "cells": [
    {
      "cell_type": "markdown",
      "metadata": {},
      "source": [
        "# 7.1 Diffie Hellman example"
      ]
    },
    {
      "cell_type": "code",
      "execution_count": 10,
      "metadata": {},
      "outputs": [],
      "source": [
        "p = 17; g = 3; a = 5; b = 11\n",
        "from repeatedSquaring import repeatedSquaring\n",
        "\n",
        "# Alice\n",
        "A = repeatedSquaring(g, a, p)\n",
        "# Bob\n",
        "B = repeatedSquaring(g, b, p)\n",
        "K_alice = repeatedSquaring(B, a, p)\n",
        "K_bob = repeatedSquaring(A, b, p)"
      ]
    },
    {
      "cell_type": "code",
      "execution_count": 11,
      "metadata": {},
      "outputs": [
        {
          "name": "stdout",
          "output_type": "stream",
          "text": [
            "5 7 11 11\n"
          ]
        }
      ],
      "source": [
        "assert K_alice == K_bob\n",
        "print(A, B, K_alice, K_bob)"
      ]
    },
    {
      "cell_type": "markdown",
      "metadata": {},
      "source": [
        "# 7.2 Key Exchange"
      ]
    },
    {
      "cell_type": "code",
      "execution_count": 12,
      "metadata": {},
      "outputs": [
        {
          "name": "stdout",
          "output_type": "stream",
          "text": [
            "0110\n",
            "0110\n"
          ]
        }
      ],
      "source": [
        "from q2 import xor\n",
        "\n",
        "K = \"0110\"\n",
        "a = \"0101\"\n",
        "b = \"0001\"\n",
        "\n",
        "# Alice creates A and sends A to Bob\n",
        "A = xor(K, a)\n",
        "\n",
        "# Bob uses A to create B and sends B back to Alice\n",
        "B = xor(A, b)\n",
        "\n",
        "# Alice removes a from B and sends back A_\n",
        "A_ = xor(B, a)\n",
        "\n",
        "# Bob obtains K \n",
        "K_bob = xor(A_, b)\n",
        "print(K_bob)\n",
        "\n",
        "# Eve has A, B, A_\n",
        "K_eve = xor(xor(A_, A), B)\n",
        "print(K_eve)"
      ]
    },
    {
      "cell_type": "markdown",
      "metadata": {},
      "source": [
        "# 7.3 El Gamal"
      ]
    },
    {
      "cell_type": "code",
      "execution_count": 23,
      "metadata": {},
      "outputs": [
        {
          "name": "stdout",
          "output_type": "stream",
          "text": [
            "(11, 2200)\n",
            "(11, 4400)\n"
          ]
        }
      ],
      "source": [
        "# Key generation\n",
        "p = 19; g = 5; a = 7\n",
        "A = repeatedSquaring(g, a, p)\n",
        "\n",
        "public_key = (p, g, A)\n",
        "private_key = A\n",
        "\n",
        "# Encryption\n",
        "def encrypt(x, k, p, g, A):\n",
        "    y1 = repeatedSquaring(g, k, p)\n",
        "    y2 = x*repeatedSquaring(A, k, p)\n",
        "    return (y1, y2)\n",
        "\n",
        "def decrypt(y1, y2, a):\n",
        "    y1a = repeatedSquaring(y1, a, p)\n",
        "    d = y2 * repeatedSquaring(y1a, -1, p) # TODO inverse, not -1\n",
        "    return d\n",
        "\n",
        "C = encrypt(200, 3, p, g, A)\n",
        "print(C)\n",
        "C2 = encrypt(400, 3, p, g, A)\n",
        "print(C2)\n",
        "\n"
      ]
    }
  ],
  "metadata": {
    "anaconda-cloud": {},
    "kernelspec": {
      "display_name": "Python 3",
      "language": "python",
      "name": "python3"
    },
    "language_info": {
      "codemirror_mode": {
        "name": "ipython",
        "version": 3
      },
      "file_extension": ".py",
      "mimetype": "text/x-python",
      "name": "python",
      "nbconvert_exporter": "python",
      "pygments_lexer": "ipython3",
      "version": "3.8.10"
    }
  },
  "nbformat": 4,
  "nbformat_minor": 4
}
