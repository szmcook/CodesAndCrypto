{
 "cells": [
  {
   "cell_type": "markdown",
   "metadata": {},
   "source": [
    "# 12 Lattice based cryptography"
   ]
  },
  {
   "cell_type": "markdown",
   "metadata": {},
   "source": [
    "Find the shortest vector in $L(B)$. $n=2, d=2$\n",
    "\n",
    "$$B = \\begin{pmatrix}\n",
    "1 & 3\\\\\n",
    "2 & 2\n",
    "\\end{pmatrix}$$"
   ]
  },
  {
   "cell_type": "markdown",
   "metadata": {},
   "source": [
    "The shortest vector is a linear combination of $a = \\begin{pmatrix}\n",
    "1\\\\\n",
    "2\n",
    "\\end{pmatrix}$ and $b = \\begin{pmatrix}\n",
    "3\\\\\n",
    "2\n",
    "\\end{pmatrix}$\n",
    "with a small vector size in real space"
   ]
  },
  {
   "cell_type": "markdown",
   "metadata": {},
   "source": [
    "in this case we can use $-a + b$ to get a vector of size 2"
   ]
  },
  {
   "cell_type": "markdown",
   "metadata": {},
   "source": [
    "## Gram Schmidt"
   ]
  },
  {
   "cell_type": "code",
   "execution_count": 1,
   "metadata": {},
   "outputs": [],
   "source": [
    "import numpy as np"
   ]
  },
  {
   "cell_type": "code",
   "execution_count": 10,
   "metadata": {},
   "outputs": [],
   "source": [
    "def proj(u, v):\n",
    "    coeff = np.dot(u, v)\n",
    "    return coeff * u"
   ]
  },
  {
   "cell_type": "code",
   "execution_count": 16,
   "metadata": {},
   "outputs": [],
   "source": [
    "def gram_schmidt(B):\n",
    "    V = B.T\n",
    "    u1 = V[0]\n",
    "    u2 = V[1] - proj(u1, V[1])\n",
    "    u3 = V[2] - proj(u1, V[2]) - proj(u2, V[2])\n",
    "    \n",
    "    B_ = np.array([u1, u2, u3])\n",
    "    return B_.T"
   ]
  },
  {
   "cell_type": "code",
   "execution_count": 18,
   "metadata": {},
   "outputs": [
    {
     "name": "stdout",
     "output_type": "stream",
     "text": [
      "[[ 1  2  3]\n",
      " [ 4  5  6]\n",
      " [-1  0  1]\n",
      " [ 2  2  2]]\n",
      "[[     1    -24 -17787]\n",
      " [     4    -99 -73374]\n",
      " [    -1     26  19271]\n",
      " [     2    -50 -37058]]\n"
     ]
    }
   ],
   "source": [
    "B = np.array([[1,2,3], [4,5,6], [-1, 0, 1], [2,2,2]])\n",
    "print(B)\n",
    "B_ = gram_schmidt(B)\n",
    "print(B_)"
   ]
  }
 ],
 "metadata": {
  "interpreter": {
   "hash": "545c602f84e0928fb8e2580388d7be25fe4a6ef0ad31900aa92299d8f86a5380"
  },
  "kernelspec": {
   "display_name": "Python 3.8.10 64-bit ('.cc': venv)",
   "language": "python",
   "name": "python3"
  },
  "language_info": {
   "codemirror_mode": {
    "name": "ipython",
    "version": 3
   },
   "file_extension": ".py",
   "mimetype": "text/x-python",
   "name": "python",
   "nbconvert_exporter": "python",
   "pygments_lexer": "ipython3",
   "version": "3.8.10"
  },
  "orig_nbformat": 4
 },
 "nbformat": 4,
 "nbformat_minor": 2
}
