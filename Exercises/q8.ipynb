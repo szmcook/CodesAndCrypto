{
 "cells": [
  {
   "cell_type": "markdown",
   "metadata": {},
   "source": [
    "# 8 Solving Discrete Logarithms"
   ]
  },
  {
   "cell_type": "code",
   "execution_count": 1,
   "metadata": {},
   "outputs": [],
   "source": [
    "import math\n",
    "from repeatedSquaring import mod_exponent_neg"
   ]
  },
  {
   "cell_type": "markdown",
   "metadata": {},
   "source": [
    "# 8.1 Shank's Algorithm\n"
   ]
  },
  {
   "cell_type": "code",
   "execution_count": 2,
   "metadata": {},
   "outputs": [],
   "source": [
    "def shanks(p, g, A):\n",
    "    m = math.ceil(math.sqrt(p-1))\n",
    "\n",
    "    L1 = [(j, g**(m*j)%p) for j in range(m)]\n",
    "    L1.sort(key=lambda x: x[1])\n",
    "    # print(L1)\n",
    "\n",
    "    L2 = [(i, A*mod_exponent_neg(g, -i, p)%p) for i in range(1, m)]\n",
    "    L2.sort(key=lambda x: x[1])\n",
    "    # print(L2)\n",
    "\n",
    "    for p1 in L1:\n",
    "        for p2 in L2:\n",
    "            if p1[1] == p2[1]:\n",
    "                res = (m*p1[0] + p2[0]) % (p-1)\n",
    "                # print(res)\n",
    "                return res "
   ]
  },
  {
   "cell_type": "code",
   "execution_count": 3,
   "metadata": {},
   "outputs": [
    {
     "data": {
      "text/plain": [
       "49"
      ]
     },
     "execution_count": 3,
     "metadata": {},
     "output_type": "execute_result"
    }
   ],
   "source": [
    "g = 2; p = 101; A = 50\n",
    "shanks(p, g, A)"
   ]
  },
  {
   "cell_type": "code",
   "execution_count": 20,
   "metadata": {},
   "outputs": [],
   "source": [
    "p = 2579; g = 2; A = 949\n",
    "shanks(p, g, A)\n",
    "\n",
    "# This doesn't work but that's probably because 2**765 % 2579 = 2354, not 949"
   ]
  },
  {
   "cell_type": "markdown",
   "metadata": {},
   "source": [
    "## 8.2 Pollig Hellman"
   ]
  },
  {
   "cell_type": "code",
   "execution_count": null,
   "metadata": {},
   "outputs": [],
   "source": [
    "def pollig_hellman(q, c, A):\n",
    "    j = 0\n",
    "    Bj = B\n",
    "    while j <= c-1:\n",
    "        delta = Bj ** ( (n/q)**j+1 % p ) % p\n",
    "        i = shanks(p, alpha, (i*n/q % p))\n",
    "        aj = i\n",
    "        Bj1 = Bj * alpha"
   ]
  },
  {
   "cell_type": "markdown",
   "metadata": {},
   "source": [
    "# 8.3 Pollig-Hellman"
   ]
  },
  {
   "cell_type": "code",
   "execution_count": null,
   "metadata": {},
   "outputs": [],
   "source": [
    "p = 29; alpha = 2\n",
    "n = p-1\n",
    "\n",
    "B = 18;\n",
    "\n",
    "a = math.log2(B)"
   ]
  }
 ],
 "metadata": {
  "interpreter": {
   "hash": "916dbcbb3f70747c44a77c7bcd40155683ae19c65e1c03b4aa3499c5328201f1"
  },
  "kernelspec": {
   "display_name": "Python 3.8.10 64-bit",
   "language": "python",
   "name": "python3"
  },
  "language_info": {
   "codemirror_mode": {
    "name": "ipython",
    "version": 3
   },
   "file_extension": ".py",
   "mimetype": "text/x-python",
   "name": "python",
   "nbconvert_exporter": "python",
   "pygments_lexer": "ipython3",
   "version": "3.8.10"
  },
  "orig_nbformat": 4
 },
 "nbformat": 4,
 "nbformat_minor": 2
}
