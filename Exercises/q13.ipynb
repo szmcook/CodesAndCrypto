{
 "cells": [
  {
   "cell_type": "markdown",
   "metadata": {},
   "source": [
    "# 13 Hash functions"
   ]
  },
  {
   "cell_type": "markdown",
   "metadata": {},
   "source": [
    "## 13.1\n",
    "\n",
    "With the fixed points we can find x s.t. $E_k(x) = x$. Remembering that the construction for a hash function using the Davies-Meyer method is $h(k) = E_k(x) + x$ and the + is an XOR.\n",
    "\n",
    "As $E_k(x) = x$ we have that $h(k) = x + x = 0$ so any of the fixed points can be used as a collision"
   ]
  },
  {
   "cell_type": "markdown",
   "metadata": {},
   "source": [
    "## 13.2 Birthday attack for collisions\n",
    "\n",
    "$h$ behaves randomly for inputs of size $l$ (equal to the ouput)\n",
    "\n",
    "we choose q elements of length l. what's the probability of finding a collision?\n",
    "as it's random so are the $h(x_1),...,h(x_q)$ values so the birthday paradox applies. the probability that all the elements are distinct is modelled\n"
   ]
  },
  {
   "cell_type": "code",
   "execution_count": null,
   "metadata": {},
   "outputs": [],
   "source": []
  }
 ],
 "metadata": {
  "interpreter": {
   "hash": "545c602f84e0928fb8e2580388d7be25fe4a6ef0ad31900aa92299d8f86a5380"
  },
  "kernelspec": {
   "display_name": "Python 3.8.10 64-bit ('.cc': venv)",
   "language": "python",
   "name": "python3"
  },
  "language_info": {
   "name": "python",
   "version": "3.8.10"
  },
  "orig_nbformat": 4
 },
 "nbformat": 4,
 "nbformat_minor": 2
}
