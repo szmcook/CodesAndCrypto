{
 "cells": [
  {
   "cell_type": "markdown",
   "metadata": {},
   "source": [
    "# 10 ECC II"
   ]
  },
  {
   "cell_type": "code",
   "execution_count": 2,
   "metadata": {},
   "outputs": [],
   "source": [
    "from ECC_utils import ECC, Point, inverseModp"
   ]
  },
  {
   "cell_type": "code",
   "execution_count": 3,
   "metadata": {},
   "outputs": [
    {
     "name": "stdout",
     "output_type": "stream",
     "text": [
      "(4938, 12251) (4938, 12251)\n"
     ]
    }
   ],
   "source": [
    "p = 16001\n",
    "a = 1\n",
    "b = 5\n",
    "P = Point(1300, 16000)\n",
    "dA = 125\n",
    "dB = 13333\n",
    "\n",
    "E = ECC(p, a, b)\n",
    "\n",
    "QA = E.scalarMultP(dA, P)\n",
    "QB = E.scalarMultP(dB, P)\n",
    "K_a = E.scalarMultP(dA, QB)\n",
    "K_b = E.scalarMultP(dB, QA)\n",
    "\n",
    "print(K_a, K_b)\n",
    "\n"
   ]
  }
 ],
 "metadata": {
  "interpreter": {
   "hash": "545c602f84e0928fb8e2580388d7be25fe4a6ef0ad31900aa92299d8f86a5380"
  },
  "kernelspec": {
   "display_name": "Python 3.8.10 64-bit ('.cc': venv)",
   "language": "python",
   "name": "python3"
  },
  "language_info": {
   "codemirror_mode": {
    "name": "ipython",
    "version": 3
   },
   "file_extension": ".py",
   "mimetype": "text/x-python",
   "name": "python",
   "nbconvert_exporter": "python",
   "pygments_lexer": "ipython3",
   "version": "3.8.10"
  },
  "orig_nbformat": 4
 },
 "nbformat": 4,
 "nbformat_minor": 2
}
