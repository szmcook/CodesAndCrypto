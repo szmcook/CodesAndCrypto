{
  "cells": [
    {
      "cell_type": "code",
      "execution_count": 8,
      "metadata": {},
      "outputs": [
        {
          "name": "stdout",
          "output_type": "stream",
          "text": [
            "7171 -> 101\n"
          ]
        }
      ],
      "source": [
        "# 5.1\n",
        "\n",
        "def gcd(a, b):\n",
        "    while a != 0:\n",
        "        a, b = b % a, a\n",
        "    return b\n",
        "\n",
        "\n",
        "def pollard_p_minus_1(n, B):\n",
        "    a = 2\n",
        "    for j in range(2, B+1):\n",
        "        a = a**j % n\n",
        "    d = gcd(a-1, n)\n",
        "\n",
        "    if 1 < d < n:\n",
        "        return d\n",
        "    else:\n",
        "        return False\n",
        "\n",
        "# print(pollard_p_minus_1(15770708441, 173))\n",
        "\n",
        "# 5.2\n",
        "import math\n",
        "\n",
        "def f2(x):\n",
        "    # f2(x) = x**2 + 1\n",
        "    exponent = 2\n",
        "    res = 1\n",
        "    while exponent > 0:\n",
        "        if exponent & 1:\n",
        "            res = (res * x) % n\n",
        "        exponent = exponent >> 1\n",
        "\n",
        "        x = (x * x) % n\n",
        "\n",
        "    return res + 1\n",
        "\n",
        "def f(x):\n",
        "    # f(x) = x**2 + 1 mod p\n",
        "    pass\n",
        "        \n",
        "\n",
        "def pollard_rho(n):\n",
        "    x = 1\n",
        "    y = x\n",
        "    p = 1 # gcd(abs(x-y), n)\n",
        "\n",
        "    while p == 1:\n",
        "        # x = f2(x) % n\n",
        "        x = x**2 + 1 % n\n",
        "        # y = f2( f2(y) % n ) % n\n",
        "        y = (y**2 + 1)**2 + 1 % n\n",
        "        p = math.gcd(abs(x-y), n)\n",
        "    \n",
        "    return p\n",
        "\n",
        "n = 7171\n",
        "print(f\"{n} -> {pollard_rho(n)}\")"
      ]
    }
  ],
  "metadata": {
    "anaconda-cloud": {},
    "kernelspec": {
      "display_name": "Python 3",
      "language": "python",
      "name": "python3"
    },
    "language_info": {
      "codemirror_mode": {
        "name": "ipython",
        "version": 3
      },
      "file_extension": ".py",
      "mimetype": "text/x-python",
      "name": "python",
      "nbconvert_exporter": "python",
      "pygments_lexer": "ipython3",
      "version": "3.8.10"
    }
  },
  "nbformat": 4,
  "nbformat_minor": 4
}
