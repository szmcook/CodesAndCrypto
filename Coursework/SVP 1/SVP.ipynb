{
 "cells": [
  {
   "cell_type": "markdown",
   "metadata": {},
   "source": [
    "# Lattice based cryptography"
   ]
  },
  {
   "cell_type": "code",
   "execution_count": 6,
   "metadata": {},
   "outputs": [],
   "source": [
    "import numpy as np\n",
    "from SVP_utils import SVPoint, gram_schmidt, generate_basis_vectors, generate_random_points, augment, find_difference, find_modified_average\n",
    "import random"
   ]
  },
  {
   "cell_type": "code",
   "execution_count": 7,
   "metadata": {},
   "outputs": [],
   "source": [
    "B = np.array([\n",
    " [37, 20, 96, 20, 34, 64, 82, 56, 47, 21, 50, 49],\n",
    " [39, 24, 19, 49, 82, 97, 88, 84, 41, 51, 36, 74],\n",
    " [19, 56, 37, 73,  4, 12, 72, 18, 46,  8, 54, 94],\n",
    " [13, 46, 26,  8, 83, 71, 45, 84, 21, 32, 53, 80],\n",
    " [65, 39, 25, 56, 52, 44, 84, 30, 69, 33, 13,  5],\n",
    " [59, 56, 90,  1, 42, 58, 90, 92,  2,  6,  7, 80],\n",
    " [18, 14, 26, 31, 91, 93, 77, 64, 95, 36, 23,  5],\n",
    " [11, 58, 22, 51, 90, 13, 93, 43, 21, 81, 12, 77],\n",
    " [42, 65, 99,  6, 23, 43, 94, 30, 37, 66, 34, 66],\n",
    " [99, 31, 24, 44, 18, 58, 17, 27, 70, 88, 59, 11],\n",
    " [30, 43, 21, 70, 48, 47, 13, 93, 94, 48, 69, 58],\n",
    " [ 7, 12, 94, 88, 59, 95, 43, 62, 71, 36, 91, 70]\n",
    "])"
   ]
  },
  {
   "cell_type": "code",
   "execution_count": 8,
   "metadata": {},
   "outputs": [
    {
     "data": {
      "text/plain": [
       "230.47420094416253"
      ]
     },
     "execution_count": 8,
     "metadata": {},
     "output_type": "execute_result"
    }
   ],
   "source": [
    "# Upper bound on the length of the shortest vector by minkowski's theorem\n",
    "np.sqrt([12])[0] * (np.linalg.det(B) ** (1/12))"
   ]
  },
  {
   "cell_type": "code",
   "execution_count": 9,
   "metadata": {},
   "outputs": [
    {
     "name": "stdout",
     "output_type": "stream",
     "text": [
      "average norm in points: 1501, shortest = 459.0849594573972\n",
      "average norm in points: 1186, shortest = 459.0849594573972\n",
      "average norm in points: 978, shortest = 403.57651071389176\n",
      "average norm in points: 815, shortest = 252.10513679812237\n",
      "average norm in points: 703, shortest = 252.10513679812237\n",
      "average norm in points: 599, shortest = 227.99122790142607\n",
      "average norm in points: 515, shortest = 212.28047484401387\n",
      "average norm in points: 441, shortest = 174.69974241537966\n",
      "average norm in points: 380, shortest = 157.0764145249057\n",
      "average norm in points: 331, shortest = 150.56892109595526\n",
      "average norm in points: 286, shortest = 124.06046912695437\n",
      "average norm in points: 252, shortest = 124.06046912695437\n",
      "average norm in points: 222, shortest = 110.08632975987527\n",
      "average norm in points: 198, shortest = 96.55050491841045\n",
      "average norm in points: 178, shortest = 96.55050491841045\n",
      "average norm in points: 161, shortest = 89.12911982062877\n",
      "average norm in points: 147, shortest = 89.12911982062877\n",
      "average norm in points: 136, shortest = 88.6904729945669\n",
      "average norm in points: 125, shortest = 88.6904729945669\n",
      "average norm in points: 115, shortest = 88.6904729945669\n",
      "average norm in points: 108, shortest = 74.96665925596525\n",
      "average norm in points: 102, shortest = 74.96665925596525\n",
      "average norm in points: 98, shortest = 74.96665925596525\n"
     ]
    }
   ],
   "source": [
    "def sieve(B):\n",
    "    \"\"\"\n",
    "    Function to sieve for short vectors on a lattice with basis B\n",
    "    \n",
    "    Parameters:\n",
    "    B (np.array): Input lattice basis vectors\n",
    "    \n",
    "    Returns:\n",
    "    np.array: short vector on the lattice\n",
    "    int: length of the short vector\n",
    "    \"\"\"\n",
    "    # 0 Orthogonalise the basis with gram-schmidt\n",
    "    # B_gs = gram_schmidt(B)\n",
    "\n",
    "    # 1 Generate n points on the lattice\n",
    "    n = 100\n",
    "\n",
    "    points = generate_random_points(B, n, l=-4, h=5)\n",
    "\n",
    "    # 2 Replace the points with new ones until done TODO when is this done?\n",
    "    # for i in range(4000):\n",
    "    while points[0].norm > 72.1:\n",
    "        \n",
    "        print(f\"average norm in points: {int(sum([p.norm for p in points])/len(points))}, shortest = {points[0].norm}\")\n",
    "        # print(points[0])\n",
    "        # print([p.norm for p in points])\n",
    "        if not (points[0].p == np.dot(B, points[0].x)).all():\n",
    "            print(points[0].p, np.dot(B, points[0].x))\n",
    "        assert (points[0].p == np.dot(B, points[0].x)).all()\n",
    "\n",
    "        f = random.choice([find_difference, find_modified_average])\n",
    "        points = augment(points, B, n, 0.8, f)\n",
    "        # points = augment(points, B, n, 0.8, find_modified_average)\n",
    "        # points = augment(points, B, n, 0.8, find_difference)\n",
    "\n",
    "    return points[0]\n",
    "\n",
    "SV = sieve(B)\n",
    "assert (SV.p == np.dot(B, SV.x)).all()"
   ]
  },
  {
   "cell_type": "code",
   "execution_count": 10,
   "metadata": {},
   "outputs": [
    {
     "data": {
      "text/plain": [
       "p=[  8.  14.  32. -16.   1. -23. -24. -30.  37.   9.  14.  -2.],\n",
       "x=[-2.  2. -1.  1. -3.  1.  2.  2. -2.  1.  2. -3.],\n",
       "norm=72.0832851637604"
      ]
     },
     "execution_count": 10,
     "metadata": {},
     "output_type": "execute_result"
    }
   ],
   "source": [
    "SV"
   ]
  }
 ],
 "metadata": {
  "interpreter": {
   "hash": "545c602f84e0928fb8e2580388d7be25fe4a6ef0ad31900aa92299d8f86a5380"
  },
  "kernelspec": {
   "display_name": "Python 3.8.10 64-bit ('.cc': venv)",
   "language": "python",
   "name": "python3"
  },
  "language_info": {
   "codemirror_mode": {
    "name": "ipython",
    "version": 3
   },
   "file_extension": ".py",
   "mimetype": "text/x-python",
   "name": "python",
   "nbconvert_exporter": "python",
   "pygments_lexer": "ipython3",
   "version": "3.8.10"
  },
  "orig_nbformat": 4
 },
 "nbformat": 4,
 "nbformat_minor": 2
}
