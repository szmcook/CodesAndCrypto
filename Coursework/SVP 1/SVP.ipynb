{
 "cells": [
  {
   "cell_type": "markdown",
   "metadata": {},
   "source": [
    "# Lattice based cryptography"
   ]
  },
  {
   "cell_type": "code",
   "execution_count": 1,
   "metadata": {},
   "outputs": [],
   "source": [
    "import numpy as np\n",
    "from SVP_utils import SVPoint, read_basis, gram_schmidt, generate_basis_vectors, generate_random_vectors, augment, find_difference, find_modified_average, find_random, write_output\n",
    "import random"
   ]
  },
  {
   "cell_type": "markdown",
   "metadata": {},
   "source": [
    "## 1 Read basis\n",
    "The initial basis is stored here but the basis can also be read from a file."
   ]
  },
  {
   "cell_type": "code",
   "execution_count": 2,
   "metadata": {},
   "outputs": [],
   "source": [
    "B = np.array([\n",
    " [37, 20, 96, 20, 34, 64, 82, 56, 47, 21, 50, 49],\n",
    " [39, 24, 19, 49, 82, 97, 88, 84, 41, 51, 36, 74],\n",
    " [19, 56, 37, 73,  4, 12, 72, 18, 46,  8, 54, 94],\n",
    " [13, 46, 26,  8, 83, 71, 45, 84, 21, 32, 53, 80],\n",
    " [65, 39, 25, 56, 52, 44, 84, 30, 69, 33, 13,  5],\n",
    " [59, 56, 90,  1, 42, 58, 90, 92,  2,  6,  7, 80],\n",
    " [18, 14, 26, 31, 91, 93, 77, 64, 95, 36, 23,  5],\n",
    " [11, 58, 22, 51, 90, 13, 93, 43, 21, 81, 12, 77],\n",
    " [42, 65, 99,  6, 23, 43, 94, 30, 37, 66, 34, 66],\n",
    " [99, 31, 24, 44, 18, 58, 17, 27, 70, 88, 59, 11],\n",
    " [30, 43, 21, 70, 48, 47, 13, 93, 94, 48, 69, 58],\n",
    " [ 7, 12, 94, 88, 59, 95, 43, 62, 71, 36, 91, 70]\n",
    "])"
   ]
  },
  {
   "cell_type": "code",
   "execution_count": 3,
   "metadata": {},
   "outputs": [],
   "source": [
    "B = read_basis('../task/latticeBasis.txt')"
   ]
  },
  {
   "cell_type": "markdown",
   "metadata": {},
   "source": [
    "## 2 Brief analysis of the basis vectors"
   ]
  },
  {
   "cell_type": "code",
   "execution_count": 4,
   "metadata": {},
   "outputs": [
    {
     "name": "stdout",
     "output_type": "stream",
     "text": [
      "average: 195.73339244318618\n",
      "variance: 17.522055131034225\n",
      "Upper bound by Minkowski's theorem: 230.47420094416253\n",
      "Estimation from latticechallenge.org: 68.1957168688578\n"
     ]
    }
   ],
   "source": [
    "basis_norms = np.array([np.linalg.norm(b) for b in B])\n",
    "print('average:', sum(basis_norms)/len(basis_norms))\n",
    "print('variance:', np.std(basis_norms))\n",
    "\n",
    "# Upper bound on the length of the shortest vector by minkowski's theorem\n",
    "n = len(B[0])\n",
    "print(f\"Upper bound by Minkowski's theorem: {np.sqrt(n) * (np.linalg.det(B) ** (1/n))}\")\n",
    "\n",
    "\n",
    "# Estimation of the length of the shortest vector by https://www.latticechallenge.org/svp-challenge/#\n",
    "from math import factorial\n",
    "\n",
    "g_term = factorial( (n/2+1) -1 ) ** (1/n)\n",
    "print(f\"Estimation from latticechallenge.org: {1.05 * g_term / np.sqrt(np.pi) * (np.linalg.det(B) ** (1/n))}\" )"
   ]
  },
  {
   "cell_type": "markdown",
   "metadata": {},
   "source": [
    "## 3 Sieving"
   ]
  },
  {
   "cell_type": "code",
   "execution_count": 5,
   "metadata": {},
   "outputs": [
    {
     "name": "stdout",
     "output_type": "stream",
     "text": [
      "average norm of vectors: 1602, shortest = 546.471408218216\n",
      "average norm of vectors: 1237, shortest = 415.26617969683014\n",
      "average norm of vectors: 1072, shortest = 415.26617969683014\n",
      "average norm of vectors: 980, shortest = 415.26617969683014\n",
      "average norm of vectors: 900, shortest = 415.26617969683014\n",
      "average norm of vectors: 831, shortest = 415.26617969683014\n",
      "average norm of vectors: 783, shortest = 415.26617969683014\n",
      "average norm of vectors: 716, shortest = 292.95221453336035\n",
      "average norm of vectors: 671, shortest = 292.95221453336035\n",
      "average norm of vectors: 639, shortest = 292.95221453336035\n",
      "average norm of vectors: 590, shortest = 292.95221453336035\n",
      "average norm of vectors: 544, shortest = 245.2692398161661\n",
      "average norm of vectors: 513, shortest = 245.2692398161661\n",
      "average norm of vectors: 472, shortest = 192.4759725264429\n",
      "average norm of vectors: 443, shortest = 192.4759725264429\n",
      "average norm of vectors: 408, shortest = 192.4759725264429\n",
      "average norm of vectors: 373, shortest = 134.39494038095333\n",
      "average norm of vectors: 353, shortest = 134.39494038095333\n",
      "average norm of vectors: 325, shortest = 134.39494038095333\n",
      "average norm of vectors: 303, shortest = 134.39494038095333\n",
      "average norm of vectors: 278, shortest = 134.39494038095333\n",
      "average norm of vectors: 259, shortest = 134.39494038095333\n",
      "average norm of vectors: 245, shortest = 134.39494038095333\n",
      "average norm of vectors: 229, shortest = 134.39494038095333\n",
      "average norm of vectors: 218, shortest = 134.39494038095333\n",
      "average norm of vectors: 208, shortest = 134.39494038095333\n",
      "average norm of vectors: 198, shortest = 123.03251602726817\n",
      "average norm of vectors: 188, shortest = 115.78428218026832\n",
      "average norm of vectors: 179, shortest = 87.58424515859002\n",
      "average norm of vectors: 172, shortest = 87.58424515859002\n",
      "average norm of vectors: 164, shortest = 87.58424515859002\n",
      "average norm of vectors: 157, shortest = 87.58424515859002\n",
      "average norm of vectors: 151, shortest = 87.58424515859002\n",
      "average norm of vectors: 145, shortest = 87.58424515859002\n",
      "average norm of vectors: 140, shortest = 87.58424515859002\n",
      "average norm of vectors: 135, shortest = 87.58424515859002\n",
      "average norm of vectors: 129, shortest = 74.96665925596525\n",
      "average norm of vectors: 124, shortest = 74.96665925596525\n",
      "average norm of vectors: 120, shortest = 74.96665925596525\n",
      "average norm of vectors: 116, shortest = 74.96665925596525\n",
      "average norm of vectors: 112, shortest = 74.96665925596525\n",
      "average norm of vectors: 108, shortest = 74.96665925596525\n",
      "average norm of vectors: 106, shortest = 74.96665925596525\n",
      "average norm of vectors: 103, shortest = 74.96665925596525\n",
      "average norm of vectors: 100, shortest = 74.96665925596525\n",
      "average norm of vectors: 98, shortest = 74.96665925596525\n",
      "The shortest vector:\n",
      "p=[ -8. -14. -32.  16.  -1.  23.  24.  30. -37.  -9. -14.   2.],\n",
      "x=[ 2. -2.  1. -1.  3. -1. -2. -2.  2. -1. -2.  3.],\n",
      "norm=72.0832851637604\n",
      "\n"
     ]
    }
   ],
   "source": [
    "def sieve(B):\n",
    "    \"\"\"\n",
    "    Function to sieve for short vectors on a lattice with basis B\n",
    "    \n",
    "    Parameters:\n",
    "    B (np.array): Input lattice basis vectors\n",
    "    \n",
    "    Returns:\n",
    "    SVPoint: the shortest vector found on the lattice\n",
    "    \"\"\"\n",
    "    # 0 Orthogonalise the basis with gram-schmidt\n",
    "    # B_gs = gram_schmidt(B)\n",
    "\n",
    "    # 1 Generate n vectors on the lattice\n",
    "    n = 150\n",
    "\n",
    "    # vectors = generate_basis_vectors(B, n)\n",
    "    vectors = generate_random_vectors(B, n, l=-4, h=5)\n",
    "\n",
    "    # 2 Create new sets with shorter vectors until done\n",
    "    # for i in range(80): # To find the shortest vector, unlikely to terminate\n",
    "    while vectors[0].norm > 72.1: # To find the vector of length 72.08. If it doesn't terminate within 15s, rerun.\n",
    "        # n-=1\n",
    "        \n",
    "        print(f\"average norm of vectors: {int(sum([p.norm for p in vectors])/len(vectors))}, shortest = {vectors[0].norm}\")\n",
    "        # print(vectors[0])\n",
    "\n",
    "        assert (vectors[0].p == np.dot(B, vectors[0].x)).all()\n",
    "\n",
    "        f = random.choice([find_difference, find_modified_average])\n",
    "        vectors = augment(vectors, B, n, 0.85, f, timeout=10)\n",
    "        # vectors = augment(vectors, B, n, 0.8, find_modified_average)\n",
    "        # vectors = augment(vectors, B, n, 0.8, find_difference)\n",
    "\n",
    "    return vectors[0]\n",
    "\n",
    "SV = sieve(B)\n",
    "\n",
    "print(f\"The shortest vector:\\n{SV}\")"
   ]
  },
  {
   "cell_type": "code",
   "execution_count": 6,
   "metadata": {},
   "outputs": [],
   "source": [
    "write_output(B, SV.p, SV.norm, SV.x, 'SVP output.txt')"
   ]
  }
 ],
 "metadata": {
  "interpreter": {
   "hash": "545c602f84e0928fb8e2580388d7be25fe4a6ef0ad31900aa92299d8f86a5380"
  },
  "kernelspec": {
   "display_name": "Python 3.8.10 64-bit ('.cc': venv)",
   "language": "python",
   "name": "python3"
  },
  "language_info": {
   "codemirror_mode": {
    "name": "ipython",
    "version": 3
   },
   "file_extension": ".py",
   "mimetype": "text/x-python",
   "name": "python",
   "nbconvert_exporter": "python",
   "pygments_lexer": "ipython3",
   "version": "3.8.10"
  },
  "orig_nbformat": 4
 },
 "nbformat": 4,
 "nbformat_minor": 2
}
