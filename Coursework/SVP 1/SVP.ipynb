{
 "cells": [
  {
   "cell_type": "markdown",
   "metadata": {},
   "source": [
    "# Lattice based cryptography"
   ]
  },
  {
   "cell_type": "code",
   "execution_count": 1,
   "metadata": {},
   "outputs": [],
   "source": [
    "import numpy as np\n",
    "from SVP_utils import SVPoint, gram_schmidt, generate_basis_vectors, generate_random_points, augment, find_difference, find_modified_average\n",
    "from copy import deepcopy"
   ]
  },
  {
   "cell_type": "code",
   "execution_count": 2,
   "metadata": {},
   "outputs": [],
   "source": [
    "B = np.array([\n",
    " [37, 20, 96, 20, 34, 64, 82, 56, 47, 21, 50, 49],\n",
    " [39, 24, 19, 49, 82, 97, 88, 84, 41, 51, 36, 74],\n",
    " [19, 56, 37, 73,  4, 12, 72, 18, 46,  8, 54, 94],\n",
    " [13, 46, 26,  8, 83, 71, 45, 84, 21, 32, 53, 80],\n",
    " [65, 39, 25, 56, 52, 44, 84, 30, 69, 33, 13,  5],\n",
    " [59, 56, 90,  1, 42, 58, 90, 92,  2,  6,  7, 80],\n",
    " [18, 14, 26, 31, 91, 93, 77, 64, 95, 36, 23,  5],\n",
    " [11, 58, 22, 51, 90, 13, 93, 43, 21, 81, 12, 77],\n",
    " [42, 65, 99,  6, 23, 43, 94, 30, 37, 66, 34, 66],\n",
    " [99, 31, 24, 44, 18, 58, 17, 27, 70, 88, 59, 11],\n",
    " [30, 43, 21, 70, 48, 47, 13, 93, 94, 48, 69, 58],\n",
    " [ 7, 12, 94, 88, 59, 95, 43, 62, 71, 36, 91, 70]\n",
    "])"
   ]
  },
  {
   "cell_type": "code",
   "execution_count": 3,
   "metadata": {},
   "outputs": [
    {
     "data": {
      "text/plain": [
       "230.47420094416253"
      ]
     },
     "execution_count": 3,
     "metadata": {},
     "output_type": "execute_result"
    }
   ],
   "source": [
    "# Upper bound on the length of the shortest vector by minkowski's theorem\n",
    "np.sqrt([12])[0] * (np.linalg.det(B) ** (1/12))"
   ]
  },
  {
   "cell_type": "code",
   "execution_count": 5,
   "metadata": {},
   "outputs": [
    {
     "name": "stdout",
     "output_type": "stream",
     "text": [
      "0 100\n",
      "average norm in points: 1519\n",
      "p=[ -93 -127 -113 -238   38 -177  -95   19 -152  233  196   98],\n",
      "x=[ 2 -3  2  3  1 -3 -3  1  1  2 -2  0],\n",
      "norm=511.6277943974506\n",
      "\n",
      "98\n"
     ]
    },
    {
     "ename": "TypeError",
     "evalue": "cannot unpack non-iterable NoneType object",
     "output_type": "error",
     "traceback": [
      "\u001b[0;31m---------------------------------------------------------------------------\u001b[0m",
      "\u001b[0;31mTypeError\u001b[0m                                 Traceback (most recent call last)",
      "\u001b[0;32m/tmp/ipykernel_71241/2548981854.py\u001b[0m in \u001b[0;36m<module>\u001b[0;34m\u001b[0m\n\u001b[1;32m     37\u001b[0m     \u001b[0;32mreturn\u001b[0m \u001b[0mSV\u001b[0m\u001b[0;34m\u001b[0m\u001b[0;34m\u001b[0m\u001b[0m\n\u001b[1;32m     38\u001b[0m \u001b[0;34m\u001b[0m\u001b[0m\n\u001b[0;32m---> 39\u001b[0;31m \u001b[0mSV\u001b[0m \u001b[0;34m=\u001b[0m \u001b[0msieve\u001b[0m\u001b[0;34m(\u001b[0m\u001b[0mB\u001b[0m\u001b[0;34m)\u001b[0m\u001b[0;34m\u001b[0m\u001b[0;34m\u001b[0m\u001b[0m\n\u001b[0m\u001b[1;32m     40\u001b[0m \u001b[0;31m# assert (SV.p == np.dot(B, SV.x)).all()\u001b[0m\u001b[0;34m\u001b[0m\u001b[0;34m\u001b[0m\u001b[0;34m\u001b[0m\u001b[0m\n\u001b[1;32m     41\u001b[0m \u001b[0;34m\u001b[0m\u001b[0m\n",
      "\u001b[0;32m/tmp/ipykernel_71241/2548981854.py\u001b[0m in \u001b[0;36msieve\u001b[0;34m(B)\u001b[0m\n\u001b[1;32m     32\u001b[0m         \u001b[0;31m# points, SV = augment(points, SV, B, n*(1.05**i), 0.3, find_modified_average)\u001b[0m\u001b[0;34m\u001b[0m\u001b[0;34m\u001b[0m\u001b[0;34m\u001b[0m\u001b[0m\n\u001b[1;32m     33\u001b[0m         \u001b[0;31m# points, SV = augment(points, SV, B, n, 1, find_modified_average)\u001b[0m\u001b[0;34m\u001b[0m\u001b[0;34m\u001b[0m\u001b[0;34m\u001b[0m\u001b[0m\n\u001b[0;32m---> 34\u001b[0;31m         \u001b[0mpoints\u001b[0m\u001b[0;34m,\u001b[0m \u001b[0mSV\u001b[0m \u001b[0;34m=\u001b[0m \u001b[0maugment\u001b[0m\u001b[0;34m(\u001b[0m\u001b[0mpoints\u001b[0m\u001b[0;34m,\u001b[0m \u001b[0mSV\u001b[0m\u001b[0;34m,\u001b[0m \u001b[0mB\u001b[0m\u001b[0;34m,\u001b[0m \u001b[0mn\u001b[0m\u001b[0;34m,\u001b[0m \u001b[0;36m0.98\u001b[0m\u001b[0;34m,\u001b[0m \u001b[0mfind_difference\u001b[0m\u001b[0;34m)\u001b[0m\u001b[0;34m\u001b[0m\u001b[0;34m\u001b[0m\u001b[0m\n\u001b[0m\u001b[1;32m     35\u001b[0m \u001b[0;34m\u001b[0m\u001b[0m\n\u001b[1;32m     36\u001b[0m     \u001b[0mprint\u001b[0m\u001b[0;34m(\u001b[0m\u001b[0mSV\u001b[0m\u001b[0;34m)\u001b[0m\u001b[0;34m\u001b[0m\u001b[0;34m\u001b[0m\u001b[0m\n",
      "\u001b[0;31mTypeError\u001b[0m: cannot unpack non-iterable NoneType object"
     ]
    }
   ],
   "source": [
    "def sieve(B):\n",
    "    \"\"\"\n",
    "    Function to sieve for short vectors on a lattice with basis B\n",
    "    \n",
    "    Parameters:\n",
    "    B (np.array): Input lattice basis vectors\n",
    "    \n",
    "    Returns:\n",
    "    np.array: short vector on the lattice\n",
    "    int: length of the short vector\n",
    "    \"\"\"\n",
    "    # 0 Orthogonalise the basis with gram-schmidt\n",
    "    # B_gs = gram_schmidt(B)\n",
    "\n",
    "    # 1 Generate n points on the lattice\n",
    "    n = 100\n",
    "\n",
    "    points, SV = generate_random_points(B, n, l=-4, h=5)\n",
    "    # points, SV = generate_basis_vectors(B, n)\n",
    "\n",
    "    assert (SV.p == np.dot(B, SV.x)).all()\n",
    "\n",
    "    # 2 Replace the points with new ones until done TODO when is this done?\n",
    "    for i in range(5000):\n",
    "        \n",
    "        if i % 100 == 0:\n",
    "            print(i, len(points))\n",
    "            print(f\"average norm in points: {int(sum([p.norm for p in points])/len(points))}\")\n",
    "            print(SV)\n",
    "            assert (SV.p == np.dot(B, SV.x)).all()\n",
    "\n",
    "        # points, SV = augment(points, SV, B, n*(1.05**i), 0.3, find_modified_average)\n",
    "        # points, SV = augment(points, SV, B, n, 1, find_modified_average)\n",
    "        points, SV = augment(points, SV, B, n, 0.99, find_difference)\n",
    "\n",
    "    print(SV)\n",
    "    return SV\n",
    "\n",
    "SV = sieve(B)\n",
    "# assert (SV.p == np.dot(B, SV.x)).all()\n",
    "\n",
    "SV"
   ]
  }
 ],
 "metadata": {
  "interpreter": {
   "hash": "545c602f84e0928fb8e2580388d7be25fe4a6ef0ad31900aa92299d8f86a5380"
  },
  "kernelspec": {
   "display_name": "Python 3.8.10 64-bit ('.cc': venv)",
   "language": "python",
   "name": "python3"
  },
  "language_info": {
   "codemirror_mode": {
    "name": "ipython",
    "version": 3
   },
   "file_extension": ".py",
   "mimetype": "text/x-python",
   "name": "python",
   "nbconvert_exporter": "python",
   "pygments_lexer": "ipython3",
   "version": "3.8.10"
  },
  "orig_nbformat": 4
 },
 "nbformat": 4,
 "nbformat_minor": 2
}
