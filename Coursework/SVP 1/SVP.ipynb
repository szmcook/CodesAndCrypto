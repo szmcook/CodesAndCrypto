{
 "cells": [
  {
   "cell_type": "markdown",
   "metadata": {},
   "source": [
    "# Lattice based cryptography"
   ]
  },
  {
   "cell_type": "code",
   "execution_count": 13,
   "metadata": {},
   "outputs": [],
   "source": [
    "import numpy as np\n",
    "from SVP_utils import SVPoint, gram_schmidt, generate_basis_vectors, generate_random_points, augment, find_difference, find_modified_average, find_modified_average_random\n",
    "import random"
   ]
  },
  {
   "cell_type": "code",
   "execution_count": 14,
   "metadata": {},
   "outputs": [],
   "source": [
    "B = np.array([\n",
    " [37, 20, 96, 20, 34, 64, 82, 56, 47, 21, 50, 49],\n",
    " [39, 24, 19, 49, 82, 97, 88, 84, 41, 51, 36, 74],\n",
    " [19, 56, 37, 73,  4, 12, 72, 18, 46,  8, 54, 94],\n",
    " [13, 46, 26,  8, 83, 71, 45, 84, 21, 32, 53, 80],\n",
    " [65, 39, 25, 56, 52, 44, 84, 30, 69, 33, 13,  5],\n",
    " [59, 56, 90,  1, 42, 58, 90, 92,  2,  6,  7, 80],\n",
    " [18, 14, 26, 31, 91, 93, 77, 64, 95, 36, 23,  5],\n",
    " [11, 58, 22, 51, 90, 13, 93, 43, 21, 81, 12, 77],\n",
    " [42, 65, 99,  6, 23, 43, 94, 30, 37, 66, 34, 66],\n",
    " [99, 31, 24, 44, 18, 58, 17, 27, 70, 88, 59, 11],\n",
    " [30, 43, 21, 70, 48, 47, 13, 93, 94, 48, 69, 58],\n",
    " [ 7, 12, 94, 88, 59, 95, 43, 62, 71, 36, 91, 70]\n",
    "])"
   ]
  },
  {
   "cell_type": "code",
   "execution_count": 35,
   "metadata": {},
   "outputs": [
    {
     "data": {
      "text/plain": [
       "39.41359572854765"
      ]
     },
     "execution_count": 35,
     "metadata": {},
     "output_type": "execute_result"
    }
   ],
   "source": [
    "# Upper bound on the length of the shortest vector by minkowski's theorem\n",
    "np.sqrt([12])[0] * (np.linalg.det(B) ** (1/12))\n",
    "\n",
    "\n",
    "# Upper bound on the length of the shortest vector by https://www.latticechallenge.org/svp-challenge/#\n",
    "from math import factorial\n",
    "def gamma(n):\n",
    "    return factorial(int(n-1))\n",
    "\n",
    "n = 12\n",
    "g_term = ( gamma( (n/2+1) ** 1/n ) ) / np.sqrt(np.pi)\n",
    "1.05 * g_term * (np.linalg.det(B) ** (1/12))"
   ]
  },
  {
   "cell_type": "code",
   "execution_count": 16,
   "metadata": {},
   "outputs": [
    {
     "name": "stdout",
     "output_type": "stream",
     "text": [
      "average norm in points: 1597, shortest = 382.358470548254\n",
      "average norm in points: 1307, shortest = 382.358470548254\n",
      "average norm in points: 1118, shortest = 339.12976867270146\n",
      "average norm in points: 1019, shortest = 339.12976867270146\n",
      "average norm in points: 943, shortest = 339.12976867270146\n",
      "average norm in points: 848, shortest = 262.7565413077284\n",
      "average norm in points: 798, shortest = 262.7565413077284\n",
      "average norm in points: 730, shortest = 198.91958174096385\n",
      "average norm in points: 666, shortest = 198.91958174096385\n",
      "average norm in points: 626, shortest = 198.91958174096385\n",
      "average norm in points: 570, shortest = 198.91958174096385\n",
      "average norm in points: 540, shortest = 198.91958174096385\n",
      "average norm in points: 512, shortest = 198.91958174096385\n",
      "average norm in points: 472, shortest = 159.70284906663375\n",
      "average norm in points: 447, shortest = 159.70284906663375\n",
      "average norm in points: 415, shortest = 159.70284906663375\n",
      "average norm in points: 382, shortest = 142.70949512909084\n",
      "average norm in points: 364, shortest = 142.70949512909084\n",
      "average norm in points: 338, shortest = 118.21167455035902\n",
      "average norm in points: 321, shortest = 118.21167455035902\n",
      "average norm in points: 297, shortest = 107.9166344916297\n",
      "average norm in points: 283, shortest = 107.9166344916297\n",
      "average norm in points: 265, shortest = 107.9166344916297\n",
      "average norm in points: 254, shortest = 107.9166344916297\n",
      "average norm in points: 244, shortest = 107.9166344916297\n",
      "average norm in points: 230, shortest = 99.71459271340379\n",
      "average norm in points: 216, shortest = 99.71459271340379\n",
      "average norm in points: 207, shortest = 94.84197383015602\n",
      "average norm in points: 198, shortest = 94.84197383015602\n",
      "average norm in points: 186, shortest = 94.84197383015602\n",
      "average norm in points: 176, shortest = 89.12911982062877\n",
      "average norm in points: 167, shortest = 89.12911982062877\n",
      "average norm in points: 159, shortest = 89.12911982062877\n",
      "average norm in points: 151, shortest = 74.96665925596525\n",
      "average norm in points: 145, shortest = 74.96665925596525\n",
      "average norm in points: 138, shortest = 74.96665925596525\n",
      "average norm in points: 133, shortest = 74.96665925596525\n",
      "p=[ -8. -14. -32.  16.  -1.  23.  24.  30. -37.  -9. -14.   2.],\n",
      "x=[ 2. -2.  1. -1.  3. -1. -2. -2.  2. -1. -2.  3.],\n",
      "norm=72.0832851637604\n",
      "\n"
     ]
    }
   ],
   "source": [
    "def sieve(B):\n",
    "    \"\"\"\n",
    "    Function to sieve for short vectors on a lattice with basis B\n",
    "    \n",
    "    Parameters:\n",
    "    B (np.array): Input lattice basis vectors\n",
    "    \n",
    "    Returns:\n",
    "    np.array: short vector on the lattice\n",
    "    int: length of the short vector\n",
    "    \"\"\"\n",
    "    # 0 Orthogonalise the basis with gram-schmidt\n",
    "    # B_gs = gram_schmidt(B)\n",
    "\n",
    "    # 1 Generate n points on the lattice\n",
    "    n = 500\n",
    "\n",
    "    points = generate_random_points(B, n, l=-4, h=5)\n",
    "\n",
    "    # 2 Replace the points with new ones until done TODO when is this done?\n",
    "    # for i in range(40):\n",
    "    while points[0].norm > 72.1:\n",
    "        \n",
    "        print(f\"average norm in points: {int(sum([p.norm for p in points])/len(points))}, shortest = {points[0].norm}\")\n",
    "        # print(points[0])\n",
    "        # print([p.norm for p in points])\n",
    "        # if not (points[0].p == np.dot(B, points[0].x)).all():\n",
    "        #     print(points[0].p, np.dot(B, points[0].x))\n",
    "        assert (points[0].p == np.dot(B, points[0].x)).all()\n",
    "\n",
    "        f = random.choice([find_difference, find_modified_average])\n",
    "        points = augment(points, B, n, 0.85, f)\n",
    "        # points = augment(points, B, n, 0.8, find_modified_average)\n",
    "        # points = augment(points, B, n, 0.8, find_difference)\n",
    "\n",
    "    return points[0]\n",
    "\n",
    "SV = sieve(B)\n",
    "assert (SV.p == np.dot(B, SV.x)).all()\n",
    "print(SV)"
   ]
  }
 ],
 "metadata": {
  "interpreter": {
   "hash": "545c602f84e0928fb8e2580388d7be25fe4a6ef0ad31900aa92299d8f86a5380"
  },
  "kernelspec": {
   "display_name": "Python 3.8.10 64-bit ('.cc': venv)",
   "language": "python",
   "name": "python3"
  },
  "language_info": {
   "codemirror_mode": {
    "name": "ipython",
    "version": 3
   },
   "file_extension": ".py",
   "mimetype": "text/x-python",
   "name": "python",
   "nbconvert_exporter": "python",
   "pygments_lexer": "ipython3",
   "version": "3.8.10"
  },
  "orig_nbformat": 4
 },
 "nbformat": 4,
 "nbformat_minor": 2
}
