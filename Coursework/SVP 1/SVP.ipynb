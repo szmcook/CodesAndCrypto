{
 "cells": [
  {
   "cell_type": "markdown",
   "metadata": {},
   "source": [
    "# Lattice based cryptography"
   ]
  },
  {
   "cell_type": "code",
   "execution_count": 1,
   "metadata": {},
   "outputs": [],
   "source": [
    "import numpy as np\n",
    "from SVP_utils import SVPoint, read_basis, gram_schmidt, generate_basis_vectors, generate_random_points, augment, find_difference, find_modified_average, find_random, write_output\n",
    "import random"
   ]
  },
  {
   "cell_type": "code",
   "execution_count": 2,
   "metadata": {},
   "outputs": [],
   "source": [
    "B = np.array([\n",
    " [37, 20, 96, 20, 34, 64, 82, 56, 47, 21, 50, 49],\n",
    " [39, 24, 19, 49, 82, 97, 88, 84, 41, 51, 36, 74],\n",
    " [19, 56, 37, 73,  4, 12, 72, 18, 46,  8, 54, 94],\n",
    " [13, 46, 26,  8, 83, 71, 45, 84, 21, 32, 53, 80],\n",
    " [65, 39, 25, 56, 52, 44, 84, 30, 69, 33, 13,  5],\n",
    " [59, 56, 90,  1, 42, 58, 90, 92,  2,  6,  7, 80],\n",
    " [18, 14, 26, 31, 91, 93, 77, 64, 95, 36, 23,  5],\n",
    " [11, 58, 22, 51, 90, 13, 93, 43, 21, 81, 12, 77],\n",
    " [42, 65, 99,  6, 23, 43, 94, 30, 37, 66, 34, 66],\n",
    " [99, 31, 24, 44, 18, 58, 17, 27, 70, 88, 59, 11],\n",
    " [30, 43, 21, 70, 48, 47, 13, 93, 94, 48, 69, 58],\n",
    " [ 7, 12, 94, 88, 59, 95, 43, 62, 71, 36, 91, 70]\n",
    "])"
   ]
  },
  {
   "cell_type": "code",
   "execution_count": 3,
   "metadata": {},
   "outputs": [],
   "source": [
    "B = read_basis('../task/latticeBasis.txt')"
   ]
  },
  {
   "cell_type": "code",
   "execution_count": 4,
   "metadata": {},
   "outputs": [
    {
     "name": "stdout",
     "output_type": "stream",
     "text": [
      "184.52100151473275\n",
      "216.43936795324458\n",
      "172.61228229763952\n",
      "186.30619957478604\n",
      "167.77067681809\n",
      "207.12073773526396\n",
      "199.96749735894582\n",
      "195.9897956527329\n",
      "197.9318064384802\n",
      "185.00270268296083\n",
      "201.70770932217738\n",
      "233.43093196918014\n",
      "average: 195.73339244318618\n"
     ]
    }
   ],
   "source": [
    "s = 0\n",
    "for b in B:\n",
    "    print(np.linalg.norm(b))\n",
    "    s += np.linalg.norm(b)\n",
    "\n",
    "print('average:', s/12)"
   ]
  },
  {
   "cell_type": "code",
   "execution_count": 5,
   "metadata": {},
   "outputs": [
    {
     "name": "stdout",
     "output_type": "stream",
     "text": [
      "Upper bound by Minkowski's theorem: 230.47420094416253\n",
      "Estimation from latticechallenge.org: 68.1957168688578\n"
     ]
    }
   ],
   "source": [
    "# Upper bound on the length of the shortest vector by minkowski's theorem\n",
    "n = len(B[0])\n",
    "print(f\"Upper bound by Minkowski's theorem: {np.sqrt(n) * (np.linalg.det(B) ** (1/n))}\")\n",
    "\n",
    "\n",
    "# Estimation of the length of the shortest vector by https://www.latticechallenge.org/svp-challenge/#\n",
    "from math import factorial\n",
    "\n",
    "g_term = factorial( (n/2+1) -1 ) ** (1/n)\n",
    "print(f\"Estimation from latticechallenge.org: {1.05 * g_term / np.sqrt(np.pi) * (np.linalg.det(B) ** (1/n))}\" )"
   ]
  },
  {
   "cell_type": "code",
   "execution_count": 6,
   "metadata": {},
   "outputs": [
    {
     "name": "stdout",
     "output_type": "stream",
     "text": [
      "average norm in points: 1571, shortest = 417.7439407100958\n",
      "average norm in points: 1252, shortest = 417.7439407100958\n",
      "average norm in points: 1076, shortest = 395.8219296602956\n",
      "average norm in points: 973, shortest = 395.8219296602956\n",
      "average norm in points: 870, shortest = 334.5325096309774\n",
      "average norm in points: 780, shortest = 259.32412151591296\n",
      "average norm in points: 707, shortest = 259.32412151591296\n",
      "average norm in points: 661, shortest = 259.32412151591296\n",
      "average norm in points: 596, shortest = 196.7663589133061\n",
      "average norm in points: 560, shortest = 196.7663589133061\n",
      "average norm in points: 507, shortest = 196.7663589133061\n",
      "average norm in points: 473, shortest = 196.7663589133061\n",
      "average norm in points: 430, shortest = 185.24848177515517\n",
      "average norm in points: 394, shortest = 185.24848177515517\n",
      "average norm in points: 367, shortest = 185.24848177515517\n",
      "average norm in points: 347, shortest = 185.24848177515517\n",
      "average norm in points: 321, shortest = 164.59040069214242\n",
      "average norm in points: 303, shortest = 164.59040069214242\n",
      "average norm in points: 288, shortest = 164.59040069214242\n",
      "average norm in points: 271, shortest = 131.93938001976514\n",
      "average norm in points: 254, shortest = 95.00526301210897\n",
      "average norm in points: 241, shortest = 95.00526301210897\n",
      "average norm in points: 229, shortest = 95.00526301210897\n",
      "average norm in points: 219, shortest = 95.00526301210897\n",
      "average norm in points: 209, shortest = 95.00526301210897\n",
      "average norm in points: 199, shortest = 95.00526301210897\n",
      "average norm in points: 190, shortest = 95.00526301210897\n",
      "average norm in points: 184, shortest = 95.00526301210897\n",
      "average norm in points: 178, shortest = 95.00526301210897\n",
      "average norm in points: 172, shortest = 95.00526301210897\n",
      "average norm in points: 166, shortest = 95.00526301210897\n",
      "average norm in points: 161, shortest = 95.00526301210897\n",
      "average norm in points: 154, shortest = 95.00526301210897\n",
      "average norm in points: 147, shortest = 89.12911982062877\n",
      "average norm in points: 142, shortest = 89.12911982062877\n",
      "average norm in points: 135, shortest = 89.12911982062877\n",
      "average norm in points: 130, shortest = 89.12911982062877\n",
      "average norm in points: 125, shortest = 83.2706430862642\n",
      "average norm in points: 122, shortest = 83.2706430862642\n",
      "average norm in points: 118, shortest = 83.2706430862642\n",
      "average norm in points: 114, shortest = 83.2706430862642\n",
      "average norm in points: 110, shortest = 83.2706430862642\n",
      "average norm in points: 106, shortest = 74.96665925596525\n",
      "average norm in points: 103, shortest = 74.96665925596525\n",
      "average norm in points: 101, shortest = 74.96665925596525\n",
      "The shortest vector:\n",
      "p=[  8.  14.  32. -16.   1. -23. -24. -30.  37.   9.  14.  -2.],\n",
      "x=[-2.  2. -1.  1. -3.  1.  2.  2. -2.  1.  2. -3.],\n",
      "norm=72.0832851637604\n",
      "\n"
     ]
    }
   ],
   "source": [
    "def sieve(B):\n",
    "    \"\"\"\n",
    "    Function to sieve for short vectors on a lattice with basis B\n",
    "    \n",
    "    Parameters:\n",
    "    B (np.array): Input lattice basis vectors\n",
    "    \n",
    "    Returns:\n",
    "    np.array: short vector on the lattice\n",
    "    int: length of the short vector\n",
    "    \"\"\"\n",
    "    # 0 Orthogonalise the basis with gram-schmidt\n",
    "    # B_gs = gram_schmidt(B)\n",
    "\n",
    "    # 1 Generate n points on the lattice\n",
    "    n = 150\n",
    "\n",
    "    # points = generate_basis_vectors(B, n)\n",
    "    points = generate_random_points(B, n, l=-4, h=5)\n",
    "\n",
    "    # 2 Replace the points with new ones until done\n",
    "    # for i in range(80): # To find the shortest vector, unlikely to terminate\n",
    "    while points[0].norm > 72.1: # To find the vector of length 72.08. If it doesn't terminate within 15s, rerun.\n",
    "        \n",
    "        print(f\"average norm in points: {int(sum([p.norm for p in points])/len(points))}, shortest = {points[0].norm}\")\n",
    "        # print(points[0])\n",
    "        assert (points[0].p == np.dot(B, points[0].x)).all()\n",
    "\n",
    "        f = random.choice([find_difference, find_modified_average])\n",
    "        points = augment(points, B, n, 0.85, f, timeout=10)\n",
    "        # points = augment(points, B, n, 0.8, find_modified_average)\n",
    "        # points = augment(points, B, n, 0.8, find_difference)\n",
    "\n",
    "    return points[0]\n",
    "\n",
    "SV = sieve(B)\n",
    "assert (SV.p == np.dot(B, SV.x)).all()\n",
    "print(f\"The shortest vector:\\n{SV}\")"
   ]
  },
  {
   "cell_type": "code",
   "execution_count": 7,
   "metadata": {},
   "outputs": [],
   "source": [
    "write_output(B, SV.p, SV.norm, SV.x, 'SVP output.txt')"
   ]
  }
 ],
 "metadata": {
  "interpreter": {
   "hash": "545c602f84e0928fb8e2580388d7be25fe4a6ef0ad31900aa92299d8f86a5380"
  },
  "kernelspec": {
   "display_name": "Python 3.8.10 64-bit ('.cc': venv)",
   "language": "python",
   "name": "python3"
  },
  "language_info": {
   "codemirror_mode": {
    "name": "ipython",
    "version": 3
   },
   "file_extension": ".py",
   "mimetype": "text/x-python",
   "name": "python",
   "nbconvert_exporter": "python",
   "pygments_lexer": "ipython3",
   "version": "3.8.10"
  },
  "orig_nbformat": 4
 },
 "nbformat": 4,
 "nbformat_minor": 2
}
