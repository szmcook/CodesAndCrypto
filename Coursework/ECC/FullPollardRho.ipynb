{
 "cells": [
  {
   "cell_type": "markdown",
   "metadata": {},
   "source": [
    "# ECC Pollard Rho, discrete logarithm and DES decryption\n",
    "Instructions for use:\n",
    "\n",
    "For Full Pollard Rho with 'small' examples\n",
    "1. Ensure that ECC_utils.py and exampleInputRho.txt are in the same directory as this notebook\n",
    "2. Run the imports cell below\n",
    "3. Run the cell to read the instance from a file\n",
    "3. Run the Basic Pollard Rho cell\n",
    "4. Leave the example collisions commented out\n",
    "5. Run the Full Pollard Rho Discrete Log solver cell\n",
    "6. The output will be saved to a file called 'Full Pollard Rho Output.txt'\n",
    "\n",
    "For running the DES Decryption example\n",
    "1. Ensure that ECC_utils.py and exampleInputRho.txt are in the same directory as this notebook\n",
    "2. Run the imports cell below\n",
    "3. Uncomment one of the lines in the paramters cell to choose whether to use QA or QB as Q\n",
    "4. Run the cell to use the parameters for ECDH\n",
    "5. Run the Basic Pollard Rho cell, this will take a while to find a collision  OR  uncomment and run the example cell for the value of Q chosen, this contains c, d, c_, d_ for a valid collision\n",
    "6. Run the discrete log cell to find k s.t. Q = kP\n",
    "7. Run the decryption cell to decrypt the ciphertext"
   ]
  },
  {
   "cell_type": "code",
   "execution_count": null,
   "metadata": {},
   "outputs": [],
   "source": [
    "from ECC_utils import ECC, Point, inverseModp, read_ECC_instance, write_output, write_output_full\n",
    "import random\n",
    "import math\n",
    "from des import DesKey"
   ]
  },
  {
   "cell_type": "markdown",
   "metadata": {},
   "source": [
    "## Parameters\n",
    "Included are the parameters for the ECDH example given for the decryption and a function to read the parameters from a file.\n",
    "\n",
    "The parameters are stored as global variables so that they can be accessed by any function without having to pass them as arguments"
   ]
  },
  {
   "cell_type": "code",
   "execution_count": null,
   "metadata": {},
   "outputs": [],
   "source": [
    "# Read from a file\n",
    "p, a, b, P, n, Q = read_ECC_instance('exampleInputRho.txt')\n",
    "\n",
    "E = ECC(p, a, b)"
   ]
  },
  {
   "cell_type": "code",
   "execution_count": null,
   "metadata": {},
   "outputs": [],
   "source": [
    "# Use parameters for ECDH\n",
    "p = 20376993552394903\n",
    "a = 10\n",
    "b = 1\n",
    "P = Point(1983, 6761152449250519)\n",
    "n = 1852453970120513\n",
    "QA= Point(18586784116581871, 12161036958498472)\n",
    "QB= Point(18432261261031243, 11140924411855488)\n",
    "\n",
    "# Using QA as Q\n",
    "# Q = QA\n",
    "\n",
    "# Using QB as Q\n",
    "# Q = QB\n",
    "\n",
    "E = ECC(p, a, b)"
   ]
  },
  {
   "cell_type": "markdown",
   "metadata": {},
   "source": [
    "## Basic Pollard Rho method for finding a collision - identical to before"
   ]
  },
  {
   "cell_type": "markdown",
   "metadata": {},
   "source": [
    "### Point transformation function"
   ]
  },
  {
   "cell_type": "code",
   "execution_count": null,
   "metadata": {},
   "outputs": [],
   "source": [
    "def inc_mod_p(x, p):\n",
    "    return (x + 1) % p\n",
    "def double_mod_p(x, p):\n",
    "    return (2*x) % p\n",
    "\n",
    "def f(X, c, d):\n",
    "    \"\"\"\n",
    "    Function for transforming an EC Point (X = c_i * P + d_i * Q) to a new, random-looking EC Point (c_i+1 * P + d_i+1 * Q)\n",
    "\n",
    "    Parameters:\n",
    "    X (Point): The point\n",
    "    c (int): c s.t. X = cP + dQ\n",
    "    d (int): d s.t. X = cP + dQ\n",
    "    \n",
    "    Returns:\n",
    "    Point: The new point, X_i+1 = X_i + P or 2*X_i or X_i + Q\n",
    "    int: c_i+1, after the transformation is applied\n",
    "    int: c_i+1, after the transformation is applied\n",
    "    \"\"\"\n",
    "    partition = X.x % 3\n",
    "    if partition == 0:\n",
    "        return E.ECPointAddition(X, P), inc_mod_p(c, n), d\n",
    "    if partition == 1:\n",
    "        return E.ECPointDoubling(X), double_mod_p(c, n), double_mod_p(d, n)\n",
    "    if partition == 2:\n",
    "        return E.ECPointAddition(X, Q), c, inc_mod_p(d, n)\n",
    "\n",
    "def pollard_rho_ECC(E, P, Q):\n",
    "    \"\"\"\n",
    "    Function for finding a collision\n",
    "\n",
    "    Parameters:\n",
    "    E (ECC): The curve to work on\n",
    "    P (Point): The base point\n",
    "    Q (Point): The point s.t. Q = lP\n",
    "\n",
    "    Returns:\n",
    "    int, int, int, int: c, d, c_, d_ s.t cP + dQ = c_P + d_Q\n",
    "    \"\"\"\n",
    "    c = random.randint(1, p-2)\n",
    "    d = random.randint(1, p-2)\n",
    "    \n",
    "    X = E.ECPointAddition(E.ECPointMult(c, P), E.ECPointMult(d, Q))\n",
    "    X_, c_, d_ = f(X, c, d)\n",
    "\n",
    "    while X != X_:\n",
    "        X, c, d = f(X, c, d)\n",
    "\n",
    "        X_inter, c_inter, d_inter = f(X_, c_, d_)\n",
    "        X_, c_, d_ = f(X_inter, c_inter, d_inter)\n",
    "    \n",
    "    assert E.ECPointAddition( E.ECPointMult(c, P) , E.ECPointMult(d, Q) ) == E.ECPointAddition( E.ECPointMult(c_, P) , E.ECPointMult(d_, Q) ) == X == X_\n",
    "    return c, d, c_, d_\n",
    "\n",
    "c, d, c_, d_ = pollard_rho_ECC(E, P, Q)\n",
    "\n",
    "# Check for case where c = c_, d=d_\n",
    "if c == c_ or d == d_:\n",
    "    print(\"Collision is identical, re-running Pollard Rho to find a new collision\")\n",
    "    c, d, c_, d_ = pollard_rho_ECC(E, P, Q)"
   ]
  },
  {
   "cell_type": "markdown",
   "metadata": {},
   "source": [
    "## Examples\n",
    "\n",
    "As running the above with the ECDH parameters can take a long time, I include the following example outputs\n",
    "\n",
    "#### Example collision for ECDH (Q = QA):\n",
    "\n",
    "* X = (14570089211650398, 11648322174886797) \n",
    "* X_ = (14570089211650398, 11648322174886797)\n",
    "* c = 1312997136292347,\n",
    "* d = 1257181070902744,\n",
    "* c_ = 618115033144160, \n",
    "* d_ = 1308082788255376,\n",
    "* k = 1682779984167835\n",
    "\n",
    "#### And for Q = QB\n",
    "* X = (19994591480866396, 581378517248716)\n",
    "* X_ = (19994591480866396, 581378517248716)\n",
    "* c = 74344934027957,\n",
    "* d = 1839300198364846,\n",
    "* c_ = 1075993571912231,\n",
    "* d_ = 1000971759381135,\n",
    "* k = 428971283427559"
   ]
  },
  {
   "cell_type": "code",
   "execution_count": null,
   "metadata": {},
   "outputs": [],
   "source": [
    "# Q = QA\n",
    "# c = 1312997136292347\n",
    "# d = 1257181070902744\n",
    "# c_ = 618115033144160 \n",
    "# d_ = 1308082788255376"
   ]
  },
  {
   "cell_type": "code",
   "execution_count": null,
   "metadata": {},
   "outputs": [],
   "source": [
    "# Q = QB\n",
    "# c = 74344934027957\n",
    "# d = 1839300198364846\n",
    "# c_ = 1075993571912231\n",
    "# d_ = 1000971759381135"
   ]
  },
  {
   "cell_type": "markdown",
   "metadata": {},
   "source": [
    "# Full Pollard Rho Discrete Logarithm solver\n",
    "Below I have implemented a function that takes a collision found with the pollard rho method above and uses it to solve the discrete logarithm problem to find k such that Q = kP"
   ]
  },
  {
   "cell_type": "code",
   "execution_count": null,
   "metadata": {},
   "outputs": [],
   "source": [
    "def discrete_log(E, P, Q, c, d, c_, d_):\n",
    "    '''\n",
    "    Function for finding the discrete log Q = kP from a collision X = c*P + d*Q = X_ = c_*P + d_*Q\n",
    "\n",
    "    Parameters:\n",
    "    E (ECC): The curve to work on\n",
    "    P (Point): The base point\n",
    "    Q (Point): The point s.t. Q = kP\n",
    "\n",
    "    Returns:\n",
    "    int: k s.t. Q = kP\n",
    "    '''\n",
    "    gcd = math.gcd( (d_ - d), n ) # why do we do this for n, not n-1\n",
    "\n",
    "    if gcd == 1:\n",
    "        k = (c-c_) * inverseModp(d_-d, n) % n\n",
    "        return int(k)\n",
    "    else:\n",
    "        k1 = (c-c_)/gcd * inverseModp((d_-d)/gcd, n/gcd) % n\n",
    "        ks = [int(k1+(i*n/gcd)) for i in range(gcd)]\n",
    "        print(f\"gcd={gcd}, ks={ks}\")\n",
    "        for k in ks:\n",
    "            if Q == E.ECPointMult(k, P):\n",
    "                return k\n",
    "        print(f\"Failure\")\n",
    "\n",
    "\n",
    "k = discrete_log(E, P, Q, c, d, c_, d_)\n",
    "\n",
    "# Output\n",
    "print(f\"k = {k}\\nCheck that Q = kP: {E.ECPointMult(k, P) == Q}\")\n",
    "write_output_full(p, a, b, P, n, Q, c, d, c_, d_, k, 'Full Pollard Rho Output.txt')"
   ]
  },
  {
   "cell_type": "markdown",
   "metadata": {},
   "source": [
    "## Decryption\n",
    "This function takes plaintext and uses discrete_log() function to find the scalar multiples da or db used to create a key. It then recreates that key and uses it to decrypt the ciphertext C.\n",
    "\n",
    "I have also included the scalars da and db as commented lines which can be used to test the functionality"
   ]
  },
  {
   "cell_type": "code",
   "execution_count": null,
   "metadata": {},
   "outputs": [],
   "source": [
    "def decrypt(C, k, Q):\n",
    "    # 1 find the key from db\n",
    "    if Q == QA:\n",
    "        key = E.ECPointMult(k, QB).x\n",
    "    if Q == QB:\n",
    "        key = E.ECPointMult(k, QA).x\n",
    "    \n",
    "    # key = 6714934996831608\n",
    "\n",
    "    # 2 make it 56 bit binary, parity bits, convert to 8 bytes\n",
    "    key = format(key, 'b')\n",
    "    key = \"0\"*(56-len(key)) + key\n",
    "    key = key[:7] + \"0\" + key[7:14] + \"0\" + key[14:21] + \"0\" + key[21:28] + \"0\" + key[28:35] + \"0\" + key[35:42] + \"0\" + key[42:49] + \"0\" + key[49:56] + \"0\"\n",
    "    key = int(key, 2)\n",
    "    key = key.to_bytes(8, byteorder='big')\n",
    "\n",
    "    # 3 use des decrypt\n",
    "    des_key = DesKey(key)\n",
    "    C_bin = bytes.fromhex(C)\n",
    "    M = des_key.decrypt(C_bin)\n",
    "    M = M.decode('utf-8')\n",
    "    return M\n",
    "\n",
    "k = discrete_log(E, P, Q, c, d, c_, d_)\n",
    "# k = 1682779984167835; Q = QA\n",
    "# k = 428971283427559; Q = QB\n",
    "C = \"3da46f7b6fa82f53153908bdadcc742ac38e8691e5208aa4bf6be47240c71e75180b9d1030a00810\"\n",
    "decrypt(C, k, Q)"
   ]
  },
  {
   "cell_type": "markdown",
   "metadata": {},
   "source": [
    "## Result\n",
    "\n",
    "decrypt(C) = 'Joyeux Noël et Heureuse Année 2022 !\\x02\\x02'\n",
    "\n",
    "The padding can be removed to reveal the intended message."
   ]
  }
 ],
 "metadata": {
  "interpreter": {
   "hash": "545c602f84e0928fb8e2580388d7be25fe4a6ef0ad31900aa92299d8f86a5380"
  },
  "kernelspec": {
   "display_name": "Python 3.8.10 64-bit ('.cc': venv)",
   "language": "python",
   "name": "python3"
  },
  "language_info": {
   "codemirror_mode": {
    "name": "ipython",
    "version": 3
   },
   "file_extension": ".py",
   "mimetype": "text/x-python",
   "name": "python",
   "nbconvert_exporter": "python",
   "pygments_lexer": "ipython3",
   "version": "3.8.10"
  },
  "orig_nbformat": 4
 },
 "nbformat": 4,
 "nbformat_minor": 2
}
