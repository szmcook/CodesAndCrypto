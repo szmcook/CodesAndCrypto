{
 "cells": [
  {
   "cell_type": "markdown",
   "metadata": {},
   "source": [
    "# ECC Pollard Rho\n",
    "Instructions for use:\n",
    "1. Ensure that ECC_utils.py and exampleInputRho.txt are in the same directory as this notebook\n",
    "2. Click 'Run All' to run the Jupyter notebook.\n",
    "3. The output is saved to a file named 'OutputBasicRho.txt'."
   ]
  },
  {
   "cell_type": "code",
   "execution_count": null,
   "metadata": {},
   "outputs": [],
   "source": [
    "from ECC_utils import ECC, Point, read_ECC_instance, write_output\n",
    "import random"
   ]
  },
  {
   "cell_type": "markdown",
   "metadata": {},
   "source": [
    "## Parameters\n",
    "Included are the parameters in the example input and a function to read the parameters from a file.\n",
    "\n",
    "The parameters are stored as global variables so that they can be accessed by any function without having to pass them as arguments"
   ]
  },
  {
   "cell_type": "code",
   "execution_count": null,
   "metadata": {},
   "outputs": [],
   "source": [
    "# Parameters - Example Input\n",
    "p = 16001\n",
    "a = 10\n",
    "b = 1\n",
    "P = Point(1654, 7208)\n",
    "n = 8026\n",
    "Q = Point(5000, 1283)\n",
    "\n",
    "E = ECC(p, a, b)"
   ]
  },
  {
   "cell_type": "code",
   "execution_count": null,
   "metadata": {},
   "outputs": [],
   "source": [
    "p, a, b, P, n, Q = read_ECC_instance('../task/exampleInputRho.txt')\n",
    "\n",
    "E = ECC(p, a, b)"
   ]
  },
  {
   "cell_type": "markdown",
   "metadata": {},
   "source": [
    "## Basic Pollard Rho method for finding a collision"
   ]
  },
  {
   "cell_type": "markdown",
   "metadata": {},
   "source": [
    "### Point transformation function"
   ]
  },
  {
   "cell_type": "code",
   "execution_count": null,
   "metadata": {},
   "outputs": [],
   "source": [
    "def inc_mod_p(x, p):\n",
    "    return (x + 1) % p\n",
    "def double_mod_p(x, p):\n",
    "    return (2*x) % p\n",
    "\n",
    "def f(X, c, d):\n",
    "    \"\"\"\n",
    "    Function for transforming an EC Point (X = c_i * P + d_i * Q) to a new, random-looking EC Point (c_i+1 * P + d_i+1 * Q)\n",
    "\n",
    "    Parameters:\n",
    "    X (Point): The point\n",
    "    c (int): c s.t. X = cP + dQ\n",
    "    d (int): d s.t. X = cP + dQ\n",
    "    \n",
    "    Returns:\n",
    "    Point: The new point, X_i+1 = X_i + P or 2*X_i or X_i + Q\n",
    "    int: c_i+1, after the transformation is applied\n",
    "    int: c_i+1, after the transformation is applied\n",
    "    \"\"\"\n",
    "    partition = X.x % 3\n",
    "    if partition == 0:\n",
    "        return E.ECPointAddition(X, P), inc_mod_p(c, n), d\n",
    "    if partition == 1:\n",
    "        return E.ECPointDoubling(X), double_mod_p(c, n), double_mod_p(d, n)\n",
    "    if partition == 2:\n",
    "        return E.ECPointAddition(X, Q), c, inc_mod_p(d, n)"
   ]
  },
  {
   "cell_type": "markdown",
   "metadata": {},
   "source": [
    "### Basic Pollard Rho Implementation"
   ]
  },
  {
   "cell_type": "code",
   "execution_count": null,
   "metadata": {},
   "outputs": [],
   "source": [
    "def pollard_rho_ECC(E, P, Q):\n",
    "    \"\"\"\n",
    "    Function for finding a collision\n",
    "\n",
    "    Parameters:\n",
    "    E (ECC): The curve to work on\n",
    "    P (Point): The base point\n",
    "    Q (Point): The point s.t. Q = lP\n",
    "\n",
    "    Returns:\n",
    "    int, int, int, int: c, d, c_, d_ s.t cP + dQ = c_P + d_Q\n",
    "    \"\"\"\n",
    "    c = random.randint(1, p-2)\n",
    "    d = random.randint(1, p-2)\n",
    "    \n",
    "    X = E.ECPointAddition(E.ECPointMult(c, P), E.ECPointMult(d, Q))\n",
    "    X_, c_, d_ = f(X, c, d)\n",
    "\n",
    "    while X != X_:\n",
    "        X, c, d = f(X, c, d)\n",
    "\n",
    "        X_inter, c_inter, d_inter = f(X_, c_, d_)\n",
    "        X_, c_, d_ = f(X_inter, c_inter, d_inter)\n",
    "    \n",
    "    assert E.ECPointAddition( E.ECPointMult(c, P) , E.ECPointMult(d, Q) ) == E.ECPointAddition( E.ECPointMult(c_, P) , E.ECPointMult(d_, Q) ) == X == X_\n",
    "    return c, d, c_, d_\n",
    "\n",
    "c, d, c_, d_ = pollard_rho_ECC(E, P, Q)\n",
    "\n",
    "# Check for case where c = c_, d=d_\n",
    "if c == c_ or d == d_:\n",
    "    print(\"Collision is identical, re-running Pollard Rho to find a new collision\")\n",
    "    c, d, c_, d_ = pollard_rho_ECC(E, P, Q)\n",
    "\n",
    "# Output to screen and to file\n",
    "print(f\"c={c}, d={d}, c_={c_}, d_={d_}\")\n",
    "write_output(p, a, b, P, n, Q, c, d, c_, d_, \"OutputBasicRho.txt\")"
   ]
  }
 ],
 "metadata": {
  "interpreter": {
   "hash": "545c602f84e0928fb8e2580388d7be25fe4a6ef0ad31900aa92299d8f86a5380"
  },
  "kernelspec": {
   "display_name": "Python 3.8.10 64-bit ('.cc': venv)",
   "language": "python",
   "name": "python3"
  },
  "language_info": {
   "codemirror_mode": {
    "name": "ipython",
    "version": 3
   },
   "file_extension": ".py",
   "mimetype": "text/x-python",
   "name": "python",
   "nbconvert_exporter": "python",
   "pygments_lexer": "ipython3",
   "version": "3.8.10"
  },
  "orig_nbformat": 4
 },
 "nbformat": 4,
 "nbformat_minor": 2
}
