{
 "cells": [
  {
   "cell_type": "code",
   "execution_count": 2,
   "metadata": {},
   "outputs": [],
   "source": [
    "from ECC_utils import ECC, Point, inverseModp\n",
    "import random\n",
    "import math\n",
    "from des import DesKey"
   ]
  },
  {
   "cell_type": "markdown",
   "metadata": {},
   "source": [
    "# Basic Pollard Rho\n",
    "We use Pollard Rho for the curve to find a collision s.t. cP + dQ = c'P + d'Q."
   ]
  },
  {
   "cell_type": "code",
   "execution_count": 3,
   "metadata": {},
   "outputs": [],
   "source": [
    "# Parameters\n",
    "p = 20376993552394903\n",
    "a = 10\n",
    "b = 1\n",
    "P = Point(1983, 6761152449250519)\n",
    "n = 1852453970120513\n",
    "QA= Point(18586784116581871, 12161036958498472)\n",
    "QB= Point(18432261261031243, 11140924411855488)\n",
    "\n",
    "E = ECC(p, a, b)\n",
    "Q = QA"
   ]
  },
  {
   "cell_type": "code",
   "execution_count": null,
   "metadata": {},
   "outputs": [],
   "source": [
    "# Parameters - Example Input - SEEMS TO WORK FINE EVEN THOUGH GCD=2\n",
    "p = 16001\n",
    "a = 10\n",
    "b = 1\n",
    "P = Point(1654, 7208)\n",
    "n = 8026\n",
    "Q = Point(5000, 1283)\n",
    "\n",
    "E = ECC(p, a, b)"
   ]
  },
  {
   "cell_type": "code",
   "execution_count": null,
   "metadata": {},
   "outputs": [],
   "source": [
    "# Parameters - Guide to Elliptic Curve Cryptography - WORKS FINE AS GCD==1\n",
    "p = 229\n",
    "a = 1\n",
    "b = 44\n",
    "P = Point(5, 116)\n",
    "n = 239\n",
    "Q = Point(155, 166)\n",
    "\n",
    "E = ECC(p, a, b)"
   ]
  },
  {
   "cell_type": "code",
   "execution_count": null,
   "metadata": {},
   "outputs": [],
   "source": [
    "# Parameters - On Pollard’s rho method for solving the elliptic curve discrete logarithm problem - WORKS FINE AS GCD=1\n",
    "p = 659\n",
    "a = 416\n",
    "b = 569\n",
    "P = Point(23, 213)\n",
    "n = 673\n",
    "Q = Point(150, 25)\n",
    "\n",
    "E = ECC(p, a, b)"
   ]
  },
  {
   "cell_type": "markdown",
   "metadata": {},
   "source": [
    "We're looking for collisions on the orbits of X0 and X_0 under f"
   ]
  },
  {
   "cell_type": "code",
   "execution_count": null,
   "metadata": {},
   "outputs": [],
   "source": [
    "def H(X):\n",
    "    \"\"\"\n",
    "    Function applied to a point to assign it to a partition from which the integers a and b can be found\n",
    "    Parameters:\n",
    "    P (Point): Input point\n",
    "    Returns:\n",
    "    int: a\n",
    "    int: b\n",
    "    \"\"\"\n",
    "    # H(X) = j where X is in Sj\n",
    "    # for 1 <= j <= L (number of sets Si) choose aj, bj from [0, n-1]\n",
    "    a = random.randint(1, 100)\n",
    "    b = random.randint(1, 100)\n",
    "    return a, b\n",
    "\n",
    "def f_no_part(X, c, d):\n",
    "    \"\"\"\n",
    "    Function applied to a point for Pollard Rho\n",
    "    Parameters:\n",
    "    X (Point): Input point\n",
    "    c (int): \n",
    "    d (int): TODO WHAT IS THIS?\n",
    "    Returns:\n",
    "    Point: f(X)\n",
    "    \"\"\"\n",
    "    # X = cP + dQ so c += a and d += b\n",
    "    a, b = H(X)\n",
    "    \n",
    "    # res = X + aP + bQ\n",
    "    aP = E.ECPointMult(a, P)\n",
    "    c = c + a % n\n",
    "    bQ = E.ECPointMult(b, Q)\n",
    "    d = d + b % n\n",
    "    res1 = E.ECPointAddition(X, aP)\n",
    "    res2 = E.ECPointAddition(res1, bQ)\n",
    "    return res2, c, d\n",
    "\n"
   ]
  },
  {
   "cell_type": "code",
   "execution_count": null,
   "metadata": {},
   "outputs": [],
   "source": [
    "def inc_mod_p(x, p):\n",
    "    return (x + 1) % p\n",
    "def double_mod_p(x, p):\n",
    "    return (2*x) % p\n",
    "\n",
    "def f(X, c, d):\n",
    "    \"\"\"\n",
    "    Function for transforming an EC Point (X = c_i * P + d_i * Q) to a new, random-looking EC Point (c_i+1 * P + d_i+1 * Q)\n",
    "\n",
    "    Parameters:\n",
    "    X (Point): The point\n",
    "    c (int): c s.t. X = cP + dQ\n",
    "    d (int): d s.t. X = cP + dQ\n",
    "    \n",
    "    Returns:\n",
    "    Point: The new point, X_i+1 = X_i + P or 2*X_i or X_i + Q\n",
    "    int: c_i+1, after the transformation is applied\n",
    "    int: c_i+1, after the transformation is applied\n",
    "    \"\"\"\n",
    "    partition = X.x % 3\n",
    "    if partition == 0:\n",
    "        return E.ECPointAddition(X, P), inc_mod_p(c, n), d\n",
    "    if partition == 1:\n",
    "        return E.ECPointDoubling(X), double_mod_p(c, n), double_mod_p(d, n)\n",
    "    if partition == 2:\n",
    "        return E.ECPointAddition(X, Q), c, inc_mod_p(d, n)"
   ]
  },
  {
   "cell_type": "code",
   "execution_count": null,
   "metadata": {},
   "outputs": [],
   "source": [
    "def pollard_rho_ECC(E, P, Q):\n",
    "    \"\"\"\n",
    "    Function for finding a collision\n",
    "\n",
    "    Parameters:\n",
    "    E (ECC): The curve to work on\n",
    "    P (Point): The base point\n",
    "    Q (Point): The point s.t. Q = lP\n",
    "\n",
    "    Returns:\n",
    "    int, int, int, int: c, d, c_, d_ s.t cP + dQ = c_P + d_Q\n",
    "    \"\"\"\n",
    "    c = random.randint(1, p-2)\n",
    "    d = random.randint(1, p-2)\n",
    "    # X = cP + dQ\n",
    "    X = E.ECPointAddition(E.ECPointMult(c, P), E.ECPointMult(d, Q))\n",
    "    # X_ = f(X)\n",
    "    X_, c_, d_ = f(X, c, d)\n",
    "\n",
    "    while X != X_:\n",
    "        # X = f(X)\n",
    "        X, c, d = f(X, c, d)\n",
    "\n",
    "        # X_ = f(f(X_))\n",
    "        X_inter, c_inter, d_inter = f(X_, c_, d_)\n",
    "        X_, c_, d_ = f(X_inter, c_inter, d_inter)\n",
    "    \n",
    "    assert E.ECPointAddition( E.ECPointMult(c, P) , E.ECPointMult(d, Q) ) == E.ECPointAddition( E.ECPointMult(c_, P) , E.ECPointMult(d_, Q) ) == X == X_\n",
    "    print(X, X_)\n",
    "    return c, d, c_, d_\n",
    "\n",
    "c, d, c_, d_ = pollard_rho_ECC(E, P, Q)\n",
    "\n",
    "# TODO Check for case where c = c_, d=d_ ? in which case go back and try again\n",
    "\n",
    "print(f\"c={c}, d={d}, c_={c_}, d_={d_}\")\n",
    "\n",
    "with open(\"output.txt\", \"w\") as f:\n",
    "    f.write(f\"c={c}, d={d}, c_={c_}, d_={d_}\")"
   ]
  },
  {
   "cell_type": "markdown",
   "metadata": {},
   "source": [
    "for ECDH:\n",
    "(14570089211650398, 11648322174886797) (14570089211650398, 11648322174886797)\n",
    "c=1312997136292347, d=1257181070902744, c_=618115033144160, d_=1308082788255376\n",
    "k=1682779984167835\n",
    "True\n"
   ]
  },
  {
   "cell_type": "code",
   "execution_count": null,
   "metadata": {},
   "outputs": [],
   "source": [
    "E.ECPointMult(1682779984167835, P)"
   ]
  },
  {
   "cell_type": "code",
   "execution_count": null,
   "metadata": {},
   "outputs": [],
   "source": [
    "def discrete_log(E, P, Q):\n",
    "    '''\n",
    "    Function for finding the discrete log Q = kP from a collision X = c*P + d*Q = X_ = c_*P + d_*Q\n",
    "\n",
    "    Parameters:\n",
    "    E (ECC): The curve to work on\n",
    "    P (Point): The base point\n",
    "    Q (Point): The point s.t. Q = kP\n",
    "\n",
    "    Returns:\n",
    "    int: k s.t. Q = kP\n",
    "    '''\n",
    "    # c, d, c_, d_ = pollard_rho_ECC(E, P, Q)\n",
    "    gcd = math.gcd( (d_ - d), n ) # why do we do this for n, not n-1\n",
    "\n",
    "    if gcd == 1:\n",
    "        k = (c-c_) * inverseModp(d_-d, n) % n\n",
    "        print(f\"k={k}\")\n",
    "        return int(k)\n",
    "    elif gcd > 1:\n",
    "        k1 = (c-c_)/gcd * inverseModp((d_-d)/gcd, n/gcd) % n\n",
    "        ks = [int(k1+(i*n/gcd)) for i in range(gcd)]\n",
    "        print(f\"gcd={gcd}, ks={ks}\")\n",
    "        for k in ks:\n",
    "            if Q == E.ECPointMult(k, P):\n",
    "                return k\n",
    "        print(f\"Failure\")\n",
    "    else:\n",
    "        print(f\"gcd={gcd}\")\n",
    "\n",
    "\n",
    "k = discrete_log(E, P, Q)\n",
    "\n",
    "print(E.ECPointMult(k, P) == Q)"
   ]
  },
  {
   "cell_type": "code",
   "execution_count": 15,
   "metadata": {},
   "outputs": [
    {
     "name": "stdout",
     "output_type": "stream",
     "text": [
      "b'\\x16\\xec\\xccT2h4\\xf0'\n"
     ]
    },
    {
     "data": {
      "text/plain": [
       "b'\\x16\\xec\\xccT2h4\\xf0'"
      ]
     },
     "execution_count": 15,
     "metadata": {},
     "output_type": "execute_result"
    }
   ],
   "source": [
    "def bits_to_bytes(bits):\n",
    "    \"\"\"\n",
    "    Takes a string of 8 bits and returns a single byte\n",
    "    \"\"\"\n",
    "    x = int(bits, 2)\n",
    "    b = x.to_bytes(8, byteorder='big')\n",
    "    print(b)\n",
    "    return b\n",
    "\n",
    "\n",
    "# bits_to_byte(\"00010110\")\n",
    "bits_to_bytes(\"0001011011101100110011000101010000110010011010000011010011110000\")"
   ]
  },
  {
   "cell_type": "code",
   "execution_count": 21,
   "metadata": {},
   "outputs": [
    {
     "data": {
      "text/plain": [
       "'Joyeux Noël et Heureuse Année 2022 !\\x02\\x02'"
      ]
     },
     "execution_count": 21,
     "metadata": {},
     "output_type": "execute_result"
    }
   ],
   "source": [
    "def decrypt(C):\n",
    "# 1 find the key\n",
    "    da = discrete_log(E, P, QA)\n",
    "    # da = 1682779984167835\n",
    "    key = E.ECPointMult(da, QB).x\n",
    "    # key = 6714934996831608\n",
    "# 2 make it 56 bit binary, parity bits, convert to 8 bytes\n",
    "    key = format(key, 'b')\n",
    "    key = \"0\"*(56-len(key)) + key\n",
    "    key = key[:7] + \"0\" + key[7:14] + \"0\" + key[14:21] + \"0\" + key[21:28] + \"0\" + key[28:35] + \"0\" + key[35:42] + \"0\" + key[42:49] + \"0\" + key[49:56] + \"0\"\n",
    "    key = int(key, 2)\n",
    "    key = key.to_bytes(8, byteorder='big')\n",
    "# 3 use des decrypt\n",
    "    des_key = DesKey(key)\n",
    "    C_bin = bytes.fromhex(C)\n",
    "    M = des_key.decrypt(C_bin)\n",
    "    M = M.decode('utf-8')\n",
    "    return M\n",
    "\n",
    "C = \"3da46f7b6fa82f53153908bdadcc742ac38e8691e5208aa4bf6be47240c71e75180b9d1030a00810\"\n",
    "decrypt(C)"
   ]
  }
 ],
 "metadata": {
  "interpreter": {
   "hash": "545c602f84e0928fb8e2580388d7be25fe4a6ef0ad31900aa92299d8f86a5380"
  },
  "kernelspec": {
   "display_name": "Python 3.8.10 64-bit ('.cc': venv)",
   "language": "python",
   "name": "python3"
  },
  "language_info": {
   "codemirror_mode": {
    "name": "ipython",
    "version": 3
   },
   "file_extension": ".py",
   "mimetype": "text/x-python",
   "name": "python",
   "nbconvert_exporter": "python",
   "pygments_lexer": "ipython3",
   "version": "3.8.10"
  },
  "orig_nbformat": 4
 },
 "nbformat": 4,
 "nbformat_minor": 2
}
