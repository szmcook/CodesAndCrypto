{
 "cells": [
  {
   "cell_type": "markdown",
   "metadata": {},
   "source": [
    "# Lattice based cryptography\n",
    "Instructions for use:\n",
    "1. Ensure that SVP_utils.py and latticeBasis.txt are in the same directory as this notebook\n",
    "2. Click 'Run All' to run the Jupyter notebook.\n",
    "3. The output is saved to a file named 'SVP output.txt'.\n",
    "4. If the program doesn't find the vector expected (norm=72.1), run it again."
   ]
  },
  {
   "cell_type": "code",
   "execution_count": 1,
   "metadata": {},
   "outputs": [],
   "source": [
    "import numpy as np\n",
    "from SVP_utils import SVPoint, read_basis, gram_schmidt, generate_basis_vectors, generate_random_vectors, augment, find_difference, find_modified_average, find_random, write_output\n",
    "import random"
   ]
  },
  {
   "cell_type": "markdown",
   "metadata": {},
   "source": [
    "## 1 Read basis\n",
    "The initial basis is stored here but the basis can also be read from a file."
   ]
  },
  {
   "cell_type": "code",
   "execution_count": 2,
   "metadata": {},
   "outputs": [],
   "source": [
    "B = np.array([\n",
    " [37, 20, 96, 20, 34, 64, 82, 56, 47, 21, 50, 49],\n",
    " [39, 24, 19, 49, 82, 97, 88, 84, 41, 51, 36, 74],\n",
    " [19, 56, 37, 73,  4, 12, 72, 18, 46,  8, 54, 94],\n",
    " [13, 46, 26,  8, 83, 71, 45, 84, 21, 32, 53, 80],\n",
    " [65, 39, 25, 56, 52, 44, 84, 30, 69, 33, 13,  5],\n",
    " [59, 56, 90,  1, 42, 58, 90, 92,  2,  6,  7, 80],\n",
    " [18, 14, 26, 31, 91, 93, 77, 64, 95, 36, 23,  5],\n",
    " [11, 58, 22, 51, 90, 13, 93, 43, 21, 81, 12, 77],\n",
    " [42, 65, 99,  6, 23, 43, 94, 30, 37, 66, 34, 66],\n",
    " [99, 31, 24, 44, 18, 58, 17, 27, 70, 88, 59, 11],\n",
    " [30, 43, 21, 70, 48, 47, 13, 93, 94, 48, 69, 58],\n",
    " [ 7, 12, 94, 88, 59, 95, 43, 62, 71, 36, 91, 70]\n",
    "])"
   ]
  },
  {
   "cell_type": "code",
   "execution_count": 3,
   "metadata": {},
   "outputs": [],
   "source": [
    "B = read_basis('../task/latticeBasis.txt')"
   ]
  },
  {
   "cell_type": "markdown",
   "metadata": {},
   "source": [
    "## 2 Brief analysis of the basis vectors"
   ]
  },
  {
   "cell_type": "code",
   "execution_count": 4,
   "metadata": {},
   "outputs": [
    {
     "name": "stdout",
     "output_type": "stream",
     "text": [
      "average: 195.73339244318618\n",
      "variance: 17.522055131034225\n",
      "Upper bound by Minkowski's theorem: 230.47420094416253\n",
      "Estimation from latticechallenge.org: 68.1957168688578\n"
     ]
    }
   ],
   "source": [
    "basis_norms = np.array([np.linalg.norm(b) for b in B])\n",
    "print('average:', sum(basis_norms)/len(basis_norms))\n",
    "print('variance:', np.std(basis_norms))\n",
    "\n",
    "# Upper bound on the length of the shortest vector by minkowski's theorem\n",
    "n = len(B[0])\n",
    "print(f\"Upper bound by Minkowski's theorem: {np.sqrt(n) * (np.linalg.det(B) ** (1/n))}\")\n",
    "\n",
    "\n",
    "# Estimation of the length of the shortest vector by https://www.latticechallenge.org/svp-challenge/#\n",
    "from math import factorial\n",
    "\n",
    "g_term = factorial( (n/2+1) -1 ) ** (1/n)\n",
    "print(f\"Estimation from latticechallenge.org: {1.05 * g_term / np.sqrt(np.pi) * (np.linalg.det(B) ** (1/n))}\" )"
   ]
  },
  {
   "cell_type": "markdown",
   "metadata": {},
   "source": [
    "## 3 Sieving"
   ]
  },
  {
   "cell_type": "code",
   "execution_count": 5,
   "metadata": {},
   "outputs": [
    {
     "name": "stdout",
     "output_type": "stream",
     "text": [
      "average norm of vectors: 1474, shortest = 470.2509968091508\n",
      "average norm of vectors: 1182, shortest = 417.11029716371183\n",
      "average norm of vectors: 1019, shortest = 417.11029716371183\n",
      "average norm of vectors: 920, shortest = 412.09950254762504\n",
      "average norm of vectors: 846, shortest = 412.09950254762504\n",
      "average norm of vectors: 783, shortest = 412.09950254762504\n",
      "average norm of vectors: 741, shortest = 412.09950254762504\n",
      "average norm of vectors: 705, shortest = 412.09950254762504\n",
      "average norm of vectors: 651, shortest = 249.01606373886807\n",
      "average norm of vectors: 600, shortest = 228.40096322038573\n",
      "average norm of vectors: 550, shortest = 163.97255867979862\n",
      "average norm of vectors: 499, shortest = 163.97255867979862\n",
      "average norm of vectors: 458, shortest = 163.97255867979862\n",
      "average norm of vectors: 426, shortest = 163.97255867979862\n",
      "average norm of vectors: 398, shortest = 163.97255867979862\n",
      "average norm of vectors: 378, shortest = 163.97255867979862\n",
      "average norm of vectors: 353, shortest = 149.72975656161336\n",
      "average norm of vectors: 335, shortest = 149.72975656161336\n",
      "average norm of vectors: 321, shortest = 149.72975656161336\n",
      "average norm of vectors: 300, shortest = 117.99152511939153\n",
      "average norm of vectors: 279, shortest = 117.99152511939153\n",
      "average norm of vectors: 265, shortest = 117.99152511939153\n",
      "average norm of vectors: 249, shortest = 117.99152511939153\n",
      "average norm of vectors: 235, shortest = 117.99152511939153\n",
      "average norm of vectors: 220, shortest = 112.5477676366795\n",
      "average norm of vectors: 210, shortest = 112.5477676366795\n",
      "average norm of vectors: 200, shortest = 110.08632975987527\n",
      "average norm of vectors: 189, shortest = 110.08632975987527\n",
      "average norm of vectors: 180, shortest = 108.25433016743487\n",
      "average norm of vectors: 170, shortest = 93.65361712181756\n",
      "average norm of vectors: 160, shortest = 93.65361712181756\n",
      "average norm of vectors: 153, shortest = 85.25256594378845\n",
      "average norm of vectors: 145, shortest = 85.25256594378845\n",
      "average norm of vectors: 139, shortest = 85.25256594378845\n",
      "average norm of vectors: 134, shortest = 85.25256594378845\n",
      "average norm of vectors: 128, shortest = 85.25256594378845\n",
      "average norm of vectors: 123, shortest = 83.2706430862642\n",
      "average norm of vectors: 119, shortest = 83.2706430862642\n",
      "average norm of vectors: 114, shortest = 74.96665925596525\n",
      "average norm of vectors: 111, shortest = 74.96665925596525\n",
      "average norm of vectors: 108, shortest = 74.96665925596525\n",
      "average norm of vectors: 105, shortest = 74.96665925596525\n",
      "average norm of vectors: 103, shortest = 74.96665925596525\n",
      "average norm of vectors: 101, shortest = 74.96665925596525\n",
      "average norm of vectors: 98, shortest = 74.96665925596525\n",
      "average norm of vectors: 96, shortest = 74.96665925596525\n",
      "The shortest vector:\n",
      "p=[  8.  14.  32. -16.   1. -23. -24. -30.  37.   9.  14.  -2.],\n",
      "x=[-2.  2. -1.  1. -3.  1.  2.  2. -2.  1.  2. -3.],\n",
      "norm=72.0832851637604\n",
      "\n"
     ]
    }
   ],
   "source": [
    "def sieve(B):\n",
    "    \"\"\"\n",
    "    Function to sieve for short vectors on a lattice with basis B\n",
    "    \n",
    "    Parameters:\n",
    "    B (np.array): Input lattice basis vectors\n",
    "    \n",
    "    Returns:\n",
    "    SVPoint: the shortest vector found on the lattice\n",
    "    \"\"\"\n",
    "    # 0 Orthogonalise the basis with gram-schmidt\n",
    "    # B_gs = gram_schmidt(B)\n",
    "\n",
    "    # 1 Generate n vectors on the lattice\n",
    "    n = 150\n",
    "\n",
    "    # vectors = generate_basis_vectors(B, n)\n",
    "    vectors = generate_random_vectors(B, n, l=-4, h=5)\n",
    "\n",
    "    # 2 Create new sets with shorter vectors until done\n",
    "    # for i in range(80): # To find the shortest vector, unlikely to terminate\n",
    "    while vectors[0].norm > 72.1: # To find the vector of length 72.08. If it doesn't terminate within 15s, rerun.\n",
    "        # n-=1\n",
    "        \n",
    "        print(f\"average norm of vectors: {int(sum([p.norm for p in vectors])/len(vectors))}, shortest = {vectors[0].norm}\")\n",
    "        # print(vectors[0])\n",
    "\n",
    "        assert (vectors[0].p == np.dot(B, vectors[0].x)).all()\n",
    "\n",
    "        f = random.choice([find_difference, find_modified_average])\n",
    "        vectors = augment(vectors, B, n, 0.85, f, timeout=10)\n",
    "        # vectors = augment(vectors, B, n, 0.8, find_modified_average)\n",
    "        # vectors = augment(vectors, B, n, 0.8, find_difference)\n",
    "\n",
    "    return vectors[0]\n",
    "\n",
    "SV = sieve(B)\n",
    "\n",
    "print(f\"The shortest vector:\\n{SV}\")"
   ]
  },
  {
   "cell_type": "code",
   "execution_count": 6,
   "metadata": {},
   "outputs": [],
   "source": [
    "write_output(B, SV.p, SV.norm, SV.x, 'SVP output.txt')"
   ]
  }
 ],
 "metadata": {
  "interpreter": {
   "hash": "545c602f84e0928fb8e2580388d7be25fe4a6ef0ad31900aa92299d8f86a5380"
  },
  "kernelspec": {
   "display_name": "Python 3.8.10 64-bit ('.cc': venv)",
   "language": "python",
   "name": "python3"
  },
  "language_info": {
   "codemirror_mode": {
    "name": "ipython",
    "version": 3
   },
   "file_extension": ".py",
   "mimetype": "text/x-python",
   "name": "python",
   "nbconvert_exporter": "python",
   "pygments_lexer": "ipython3",
   "version": "3.8.10"
  },
  "orig_nbformat": 4
 },
 "nbformat": 4,
 "nbformat_minor": 2
}
