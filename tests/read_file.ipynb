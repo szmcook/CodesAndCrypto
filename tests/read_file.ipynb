{
 "cells": [
  {
   "cell_type": "code",
   "execution_count": 1,
   "metadata": {},
   "outputs": [],
   "source": [
    "import numpy as np\n"
   ]
  },
  {
   "cell_type": "code",
   "execution_count": 14,
   "metadata": {},
   "outputs": [],
   "source": [
    "import re\n",
    "def read_basis(filename):\n",
    "    with open(filename) as f:\n",
    "        lines = [re.findall('[0-9]+', l) for l in f.readlines() if l[0] not in '#B\\n']\n",
    "    return np.array(lines, dtype=np.int64)"
   ]
  }
 ],
 "metadata": {
  "interpreter": {
   "hash": "545c602f84e0928fb8e2580388d7be25fe4a6ef0ad31900aa92299d8f86a5380"
  },
  "kernelspec": {
   "display_name": "Python 3.8.10 64-bit ('.cc': venv)",
   "language": "python",
   "name": "python3"
  },
  "language_info": {
   "codemirror_mode": {
    "name": "ipython",
    "version": 3
   },
   "file_extension": ".py",
   "mimetype": "text/x-python",
   "name": "python",
   "nbconvert_exporter": "python",
   "pygments_lexer": "ipython3",
   "version": "3.8.10"
  },
  "orig_nbformat": 4
 },
 "nbformat": 4,
 "nbformat_minor": 2
}
